{
 "cells": [
  {
   "cell_type": "code",
   "execution_count": 1,
   "metadata": {},
   "outputs": [],
   "source": [
    "import pandas as pd\n",
    "import numpy as np\n",
    "import matplotlib.pyplot as plt"
   ]
  },
  {
   "cell_type": "code",
   "execution_count": 2,
   "metadata": {},
   "outputs": [
    {
     "data": {
      "text/html": [
       "<div>\n",
       "<style scoped>\n",
       "    .dataframe tbody tr th:only-of-type {\n",
       "        vertical-align: middle;\n",
       "    }\n",
       "\n",
       "    .dataframe tbody tr th {\n",
       "        vertical-align: top;\n",
       "    }\n",
       "\n",
       "    .dataframe thead th {\n",
       "        text-align: right;\n",
       "    }\n",
       "</style>\n",
       "<table border=\"1\" class=\"dataframe\">\n",
       "  <thead>\n",
       "    <tr style=\"text-align: right;\">\n",
       "      <th></th>\n",
       "      <th>ParentLocationCode</th>\n",
       "      <th>ParentLocation</th>\n",
       "      <th>SpatialDimValueCode</th>\n",
       "      <th>Location</th>\n",
       "      <th>Year</th>\n",
       "      <th>Gender</th>\n",
       "      <th>Value</th>\n",
       "    </tr>\n",
       "  </thead>\n",
       "  <tbody>\n",
       "    <tr>\n",
       "      <th>0</th>\n",
       "      <td>SEAR</td>\n",
       "      <td>South-East Asia</td>\n",
       "      <td>PRK</td>\n",
       "      <td>Democratic People's Republic of Korea</td>\n",
       "      <td>2018</td>\n",
       "      <td>Female</td>\n",
       "      <td>0.0</td>\n",
       "    </tr>\n",
       "    <tr>\n",
       "      <th>1</th>\n",
       "      <td>EUR</td>\n",
       "      <td>Europe</td>\n",
       "      <td>AZE</td>\n",
       "      <td>Azerbaijan</td>\n",
       "      <td>2018</td>\n",
       "      <td>Female</td>\n",
       "      <td>0.2</td>\n",
       "    </tr>\n",
       "    <tr>\n",
       "      <th>2</th>\n",
       "      <td>AFR</td>\n",
       "      <td>Africa</td>\n",
       "      <td>ERI</td>\n",
       "      <td>Eritrea</td>\n",
       "      <td>2018</td>\n",
       "      <td>Female</td>\n",
       "      <td>0.3</td>\n",
       "    </tr>\n",
       "    <tr>\n",
       "      <th>3</th>\n",
       "      <td>EMR</td>\n",
       "      <td>Eastern Mediterranean</td>\n",
       "      <td>EGY</td>\n",
       "      <td>Egypt</td>\n",
       "      <td>2018</td>\n",
       "      <td>Female</td>\n",
       "      <td>0.4</td>\n",
       "    </tr>\n",
       "    <tr>\n",
       "      <th>4</th>\n",
       "      <td>AFR</td>\n",
       "      <td>Africa</td>\n",
       "      <td>GHA</td>\n",
       "      <td>Ghana</td>\n",
       "      <td>2018</td>\n",
       "      <td>Female</td>\n",
       "      <td>0.4</td>\n",
       "    </tr>\n",
       "    <tr>\n",
       "      <th>...</th>\n",
       "      <td>...</td>\n",
       "      <td>...</td>\n",
       "      <td>...</td>\n",
       "      <td>...</td>\n",
       "      <td>...</td>\n",
       "      <td>...</td>\n",
       "      <td>...</td>\n",
       "    </tr>\n",
       "    <tr>\n",
       "      <th>4018</th>\n",
       "      <td>WPR</td>\n",
       "      <td>Western Pacific</td>\n",
       "      <td>TUV</td>\n",
       "      <td>Tuvalu</td>\n",
       "      <td>2000</td>\n",
       "      <td>Male</td>\n",
       "      <td>84.6</td>\n",
       "    </tr>\n",
       "    <tr>\n",
       "      <th>4019</th>\n",
       "      <td>AMR</td>\n",
       "      <td>Americas</td>\n",
       "      <td>JAM</td>\n",
       "      <td>Jamaica</td>\n",
       "      <td>2000</td>\n",
       "      <td>Female</td>\n",
       "      <td>9.1</td>\n",
       "    </tr>\n",
       "    <tr>\n",
       "      <th>4020</th>\n",
       "      <td>AFR</td>\n",
       "      <td>Africa</td>\n",
       "      <td>STP</td>\n",
       "      <td>Sao Tome and Principe</td>\n",
       "      <td>2000</td>\n",
       "      <td>Male</td>\n",
       "      <td>9.2</td>\n",
       "    </tr>\n",
       "    <tr>\n",
       "      <th>4021</th>\n",
       "      <td>EMR</td>\n",
       "      <td>Eastern Mediterranean</td>\n",
       "      <td>OMN</td>\n",
       "      <td>Oman</td>\n",
       "      <td>2000</td>\n",
       "      <td>Both sexes</td>\n",
       "      <td>9.5</td>\n",
       "    </tr>\n",
       "    <tr>\n",
       "      <th>4022</th>\n",
       "      <td>SEAR</td>\n",
       "      <td>South-East Asia</td>\n",
       "      <td>TLS</td>\n",
       "      <td>Timor-Leste</td>\n",
       "      <td>2000</td>\n",
       "      <td>Male</td>\n",
       "      <td>91.0</td>\n",
       "    </tr>\n",
       "  </tbody>\n",
       "</table>\n",
       "<p>4023 rows × 7 columns</p>\n",
       "</div>"
      ],
      "text/plain": [
       "     ParentLocationCode         ParentLocation SpatialDimValueCode  \\\n",
       "0                  SEAR        South-East Asia                 PRK   \n",
       "1                   EUR                 Europe                 AZE   \n",
       "2                   AFR                 Africa                 ERI   \n",
       "3                   EMR  Eastern Mediterranean                 EGY   \n",
       "4                   AFR                 Africa                 GHA   \n",
       "...                 ...                    ...                 ...   \n",
       "4018                WPR        Western Pacific                 TUV   \n",
       "4019                AMR               Americas                 JAM   \n",
       "4020                AFR                 Africa                 STP   \n",
       "4021                EMR  Eastern Mediterranean                 OMN   \n",
       "4022               SEAR        South-East Asia                 TLS   \n",
       "\n",
       "                                   Location  Year      Gender  Value  \n",
       "0     Democratic People's Republic of Korea  2018      Female    0.0  \n",
       "1                                Azerbaijan  2018      Female    0.2  \n",
       "2                                   Eritrea  2018      Female    0.3  \n",
       "3                                     Egypt  2018      Female    0.4  \n",
       "4                                     Ghana  2018      Female    0.4  \n",
       "...                                     ...   ...         ...    ...  \n",
       "4018                                 Tuvalu  2000        Male   84.6  \n",
       "4019                                Jamaica  2000      Female    9.1  \n",
       "4020                  Sao Tome and Principe  2000        Male    9.2  \n",
       "4021                                   Oman  2000  Both sexes    9.5  \n",
       "4022                            Timor-Leste  2000        Male   91.0  \n",
       "\n",
       "[4023 rows x 7 columns]"
      ]
     },
     "execution_count": 2,
     "metadata": {},
     "output_type": "execute_result"
    }
   ],
   "source": [
    "ww_tobacco = pd.read_csv(\"tobacco_use_ww.csv\")\n",
    "ww_tobacco"
   ]
  },
  {
   "cell_type": "code",
   "execution_count": 3,
   "metadata": {},
   "outputs": [
    {
     "data": {
      "text/plain": [
       "<AxesSubplot:>"
      ]
     },
     "execution_count": 3,
     "metadata": {},
     "output_type": "execute_result"
    },
    {
     "data": {
      "image/png": "[encoded data removed]",
      "text/plain": [
       "<Figure size 432x288 with 1 Axes>"
      ]
     },
     "metadata": {
      "needs_background": "light"
     },
     "output_type": "display_data"
    }
   ],
   "source": [
    "mal = ww_tobacco[ww_tobacco[\"Gender\"]==\"Male\"].copy()\n",
    "mal = mal.set_index([\"Location\", \"Year\"])\n",
    "mal[\"Value\"].hist()"
   ]
  },
  {
   "cell_type": "code",
   "execution_count": 4,
   "metadata": {},
   "outputs": [
    {
     "data": {
      "text/plain": [
       "<AxesSubplot:>"
      ]
     },
     "execution_count": 4,
     "metadata": {},
     "output_type": "execute_result"
    },
    {
     "data": {
      "image/png": "[encoded data removed]",
      "text/plain": [
       "<Figure size 432x288 with 1 Axes>"
      ]
     },
     "metadata": {
      "needs_background": "light"
     },
     "output_type": "display_data"
    }
   ],
   "source": [
    "fem = ww_tobacco[ww_tobacco[\"Gender\"]==\"Female\"].copy()\n",
    "fem = fem.set_index([\"Location\", \"Year\"])\n",
    "fem[\"Value\"].hist()"
   ]
  },
  {
   "cell_type": "code",
   "execution_count": 5,
   "metadata": {},
   "outputs": [
    {
     "data": {
      "image/png": "[encoded data removed]",
      "text/plain": [
       "<Figure size 432x288 with 1 Axes>"
      ]
     },
     "metadata": {
      "needs_background": "light"
     },
     "output_type": "display_data"
    }
   ],
   "source": [
    "bi = fem[\"Value\"] / mal[\"Value\"]\n",
    "bi.hist(bins = 100)\n",
    "plt.axvline(x=.5, color ='red')\n",
    "plt.xlabel(\"Female to Male % Smoker Ratio\")\n",
    "plt.ylabel(\"Frequency\")\n",
    "plt.show()"
   ]
  },
  {
   "cell_type": "code",
   "execution_count": 6,
   "metadata": {},
   "outputs": [],
   "source": [
    "# looks like we can seperate the two groups at .5 as the ratio"
   ]
  },
  {
   "cell_type": "code",
   "execution_count": 7,
   "metadata": {},
   "outputs": [
    {
     "data": {
      "text/plain": [
       "Location  Year\n",
       "Albania   2000    0.193380\n",
       "          2005    0.180832\n",
       "          2010    0.171053\n",
       "          2013    0.165385\n",
       "          2014    0.164410\n",
       "                    ...   \n",
       "Zimbabwe  2014    0.057348\n",
       "          2015    0.054545\n",
       "          2016    0.051471\n",
       "          2017    0.052045\n",
       "          2018    0.049057\n",
       "Name: Value, Length: 1341, dtype: float64"
      ]
     },
     "execution_count": 7,
     "metadata": {},
     "output_type": "execute_result"
    }
   ],
   "source": [
    "bi"
   ]
  },
  {
   "cell_type": "code",
   "execution_count": 8,
   "metadata": {},
   "outputs": [
    {
     "data": {
      "text/html": [
       "<div>\n",
       "<style scoped>\n",
       "    .dataframe tbody tr th:only-of-type {\n",
       "        vertical-align: middle;\n",
       "    }\n",
       "\n",
       "    .dataframe tbody tr th {\n",
       "        vertical-align: top;\n",
       "    }\n",
       "\n",
       "    .dataframe thead th {\n",
       "        text-align: right;\n",
       "    }\n",
       "</style>\n",
       "<table border=\"1\" class=\"dataframe\">\n",
       "  <thead>\n",
       "    <tr style=\"text-align: right;\">\n",
       "      <th></th>\n",
       "      <th>Location</th>\n",
       "      <th>Year</th>\n",
       "      <th>Value</th>\n",
       "    </tr>\n",
       "  </thead>\n",
       "  <tbody>\n",
       "    <tr>\n",
       "      <th>8</th>\n",
       "      <td>Albania</td>\n",
       "      <td>2018</td>\n",
       "      <td>0.156436</td>\n",
       "    </tr>\n",
       "    <tr>\n",
       "      <th>17</th>\n",
       "      <td>Algeria</td>\n",
       "      <td>2018</td>\n",
       "      <td>0.038567</td>\n",
       "    </tr>\n",
       "    <tr>\n",
       "      <th>26</th>\n",
       "      <td>Andorra</td>\n",
       "      <td>2018</td>\n",
       "      <td>0.774278</td>\n",
       "    </tr>\n",
       "    <tr>\n",
       "      <th>35</th>\n",
       "      <td>Argentina</td>\n",
       "      <td>2018</td>\n",
       "      <td>0.546099</td>\n",
       "    </tr>\n",
       "    <tr>\n",
       "      <th>44</th>\n",
       "      <td>Armenia</td>\n",
       "      <td>2018</td>\n",
       "      <td>0.030888</td>\n",
       "    </tr>\n",
       "    <tr>\n",
       "      <th>...</th>\n",
       "      <td>...</td>\n",
       "      <td>...</td>\n",
       "      <td>...</td>\n",
       "    </tr>\n",
       "    <tr>\n",
       "      <th>1304</th>\n",
       "      <td>Uzbekistan</td>\n",
       "      <td>2018</td>\n",
       "      <td>0.055794</td>\n",
       "    </tr>\n",
       "    <tr>\n",
       "      <th>1313</th>\n",
       "      <td>Vanuatu</td>\n",
       "      <td>2018</td>\n",
       "      <td>0.073333</td>\n",
       "    </tr>\n",
       "    <tr>\n",
       "      <th>1322</th>\n",
       "      <td>Yemen</td>\n",
       "      <td>2018</td>\n",
       "      <td>0.286154</td>\n",
       "    </tr>\n",
       "    <tr>\n",
       "      <th>1331</th>\n",
       "      <td>Zambia</td>\n",
       "      <td>2018</td>\n",
       "      <td>0.176000</td>\n",
       "    </tr>\n",
       "    <tr>\n",
       "      <th>1340</th>\n",
       "      <td>Zimbabwe</td>\n",
       "      <td>2018</td>\n",
       "      <td>0.049057</td>\n",
       "    </tr>\n",
       "  </tbody>\n",
       "</table>\n",
       "<p>149 rows × 3 columns</p>\n",
       "</div>"
      ],
      "text/plain": [
       "        Location  Year     Value\n",
       "8        Albania  2018  0.156436\n",
       "17       Algeria  2018  0.038567\n",
       "26       Andorra  2018  0.774278\n",
       "35     Argentina  2018  0.546099\n",
       "44       Armenia  2018  0.030888\n",
       "...          ...   ...       ...\n",
       "1304  Uzbekistan  2018  0.055794\n",
       "1313     Vanuatu  2018  0.073333\n",
       "1322       Yemen  2018  0.286154\n",
       "1331      Zambia  2018  0.176000\n",
       "1340    Zimbabwe  2018  0.049057\n",
       "\n",
       "[149 rows x 3 columns]"
      ]
     },
     "execution_count": 8,
     "metadata": {},
     "output_type": "execute_result"
    }
   ],
   "source": [
    "temp = bi.reset_index()\n",
    "temp = temp[temp[\"Year\"] == 2018]\n",
    "temp"
   ]
  },
  {
   "cell_type": "code",
   "execution_count": 12,
   "metadata": {},
   "outputs": [],
   "source": [
    "import plotly.io as pio\n",
    "pio.renderers.default = 'iframe' # or 'notebook' or 'colab' or 'jupyterlab'"
   ]
  },
  {
   "cell_type": "code",
   "execution_count": 16,
   "metadata": {},
   "outputs": [
    {
     "data": {
      "text/html": [
       "<iframe\n",
       "    scrolling=\"no\"\n",
       "    width=\"100%\"\n",
       "    height=\"545px\"\n",
       "    src=\"iframe_figures/figure_16.html\"\n",
       "    frameborder=\"0\"\n",
       "    allowfullscreen\n",
       "></iframe>\n"
      ]
     },
     "metadata": {},
     "output_type": "display_data"
    }
   ],
   "source": [
    "import plotly.graph_objects as go\n",
    "fig = go.Figure(data = go.Choropleth(\n",
    "    locations=temp['Location'], # The abbreviation of code\n",
    "    z=temp['Value'],# Your data value\n",
    "    locationmode='country names', # range\n",
    "    colorscale='Reds',\n",
    "    colorbar_title=\"Percentage\",\n",
    "))\n",
    "\n",
    "fig.update_layout(title={\n",
    "        'text': \"Female to Male % Smoker Ratio (2018)\",\n",
    "        'y':0.9,\n",
    "        'x':0.5,\n",
    "        'xanchor': 'center',\n",
    "        'yanchor': 'top'},\n",
    "                 )\n",
    "fig.show()"
   ]
  },
  {
   "cell_type": "code",
   "execution_count": 9,
   "metadata": {},
   "outputs": [
    {
     "data": {
      "text/plain": [
       "Europe                   276\n",
       "Americas                  64\n",
       "Western Pacific           45\n",
       "Africa                    12\n",
       "Eastern Mediterranean      9\n",
       "South-East Asia            5\n",
       "Name: Location, dtype: int64"
      ]
     },
     "execution_count": 9,
     "metadata": {},
     "output_type": "execute_result"
    }
   ],
   "source": [
    "parent_dict = ww_tobacco.set_index(\"Location\")[\"ParentLocation\"].to_dict()\n",
    "bi[bi>.5].reset_index()[\"Location\"].replace(parent_dict).value_counts()"
   ]
  },
  {
   "cell_type": "code",
   "execution_count": 10,
   "metadata": {},
   "outputs": [
    {
     "data": {
      "text/plain": [
       "Africa                   321\n",
       "Western Pacific          153\n",
       "Europe                   146\n",
       "Eastern Mediterranean    117\n",
       "Americas                 116\n",
       "South-East Asia           76\n",
       "Name: Location, dtype: int64"
      ]
     },
     "execution_count": 10,
     "metadata": {},
     "output_type": "execute_result"
    }
   ],
   "source": [
    "bi[bi<.5].reset_index()[\"Location\"].replace(parent_dict).value_counts()"
   ]
  },
  {
   "cell_type": "code",
   "execution_count": 11,
   "metadata": {},
   "outputs": [],
   "source": [
    "## NOTE: we can't use linear regression here since each year for a country is a seperate datapoint which would probably violate IID assumption"
   ]
  },
  {
   "cell_type": "code",
   "execution_count": null,
   "metadata": {},
   "outputs": [],
   "source": []
  },
  {
   "cell_type": "code",
   "execution_count": 81,
   "metadata": {},
   "outputs": [
    {
     "data": {
      "text/html": [
       "<div>\n",
       "<style scoped>\n",
       "    .dataframe tbody tr th:only-of-type {\n",
       "        vertical-align: middle;\n",
       "    }\n",
       "\n",
       "    .dataframe tbody tr th {\n",
       "        vertical-align: top;\n",
       "    }\n",
       "\n",
       "    .dataframe thead th {\n",
       "        text-align: right;\n",
       "    }\n",
       "</style>\n",
       "<table border=\"1\" class=\"dataframe\">\n",
       "  <thead>\n",
       "    <tr style=\"text-align: right;\">\n",
       "      <th></th>\n",
       "      <th></th>\n",
       "      <th>Country Code</th>\n",
       "      <th>Indicator Name</th>\n",
       "      <th>Indicator Code</th>\n",
       "      <th>gdp</th>\n",
       "      <th>ratio</th>\n",
       "    </tr>\n",
       "    <tr>\n",
       "      <th>Location</th>\n",
       "      <th>Year</th>\n",
       "      <th></th>\n",
       "      <th></th>\n",
       "      <th></th>\n",
       "      <th></th>\n",
       "      <th></th>\n",
       "    </tr>\n",
       "  </thead>\n",
       "  <tbody>\n",
       "    <tr>\n",
       "      <th>Albania</th>\n",
       "      <th>2000</th>\n",
       "      <td>ALB</td>\n",
       "      <td>GDP per capita (current US$)</td>\n",
       "      <td>NY.GDP.PCAP.CD</td>\n",
       "      <td>1126.683318</td>\n",
       "      <td>0.193380</td>\n",
       "    </tr>\n",
       "    <tr>\n",
       "      <th>Andorra</th>\n",
       "      <th>2000</th>\n",
       "      <td>AND</td>\n",
       "      <td>GDP per capita (current US$)</td>\n",
       "      <td>NY.GDP.PCAP.CD</td>\n",
       "      <td>21854.246803</td>\n",
       "      <td>0.701878</td>\n",
       "    </tr>\n",
       "    <tr>\n",
       "      <th>United Arab Emirates</th>\n",
       "      <th>2000</th>\n",
       "      <td>ARE</td>\n",
       "      <td>GDP per capita (current US$)</td>\n",
       "      <td>NY.GDP.PCAP.CD</td>\n",
       "      <td>33291.366254</td>\n",
       "      <td>0.030733</td>\n",
       "    </tr>\n",
       "    <tr>\n",
       "      <th>Argentina</th>\n",
       "      <th>2000</th>\n",
       "      <td>ARG</td>\n",
       "      <td>GDP per capita (current US$)</td>\n",
       "      <td>NY.GDP.PCAP.CD</td>\n",
       "      <td>7708.099115</td>\n",
       "      <td>0.728972</td>\n",
       "    </tr>\n",
       "    <tr>\n",
       "      <th>Armenia</th>\n",
       "      <th>2000</th>\n",
       "      <td>ARM</td>\n",
       "      <td>GDP per capita (current US$)</td>\n",
       "      <td>NY.GDP.PCAP.CD</td>\n",
       "      <td>622.740923</td>\n",
       "      <td>0.039334</td>\n",
       "    </tr>\n",
       "    <tr>\n",
       "      <th>...</th>\n",
       "      <th>...</th>\n",
       "      <td>...</td>\n",
       "      <td>...</td>\n",
       "      <td>...</td>\n",
       "      <td>...</td>\n",
       "      <td>...</td>\n",
       "    </tr>\n",
       "    <tr>\n",
       "      <th>Vanuatu</th>\n",
       "      <th>2018</th>\n",
       "      <td>VUT</td>\n",
       "      <td>GDP per capita (current US$)</td>\n",
       "      <td>NY.GDP.PCAP.CD</td>\n",
       "      <td>3125.404999</td>\n",
       "      <td>0.073333</td>\n",
       "    </tr>\n",
       "    <tr>\n",
       "      <th>Samoa</th>\n",
       "      <th>2018</th>\n",
       "      <td>WSM</td>\n",
       "      <td>GDP per capita (current US$)</td>\n",
       "      <td>NY.GDP.PCAP.CD</td>\n",
       "      <td>4188.571058</td>\n",
       "      <td>0.414216</td>\n",
       "    </tr>\n",
       "    <tr>\n",
       "      <th>South Africa</th>\n",
       "      <th>2018</th>\n",
       "      <td>ZAF</td>\n",
       "      <td>GDP per capita (current US$)</td>\n",
       "      <td>NY.GDP.PCAP.CD</td>\n",
       "      <td>6372.605655</td>\n",
       "      <td>0.341880</td>\n",
       "    </tr>\n",
       "    <tr>\n",
       "      <th>Zambia</th>\n",
       "      <th>2018</th>\n",
       "      <td>ZMB</td>\n",
       "      <td>GDP per capita (current US$)</td>\n",
       "      <td>NY.GDP.PCAP.CD</td>\n",
       "      <td>1516.371100</td>\n",
       "      <td>0.176000</td>\n",
       "    </tr>\n",
       "    <tr>\n",
       "      <th>Zimbabwe</th>\n",
       "      <th>2018</th>\n",
       "      <td>ZWE</td>\n",
       "      <td>GDP per capita (current US$)</td>\n",
       "      <td>NY.GDP.PCAP.CD</td>\n",
       "      <td>1352.162653</td>\n",
       "      <td>0.049057</td>\n",
       "    </tr>\n",
       "  </tbody>\n",
       "</table>\n",
       "<p>1179 rows × 5 columns</p>\n",
       "</div>"
      ],
      "text/plain": [
       "                          Country Code                Indicator Name  \\\n",
       "Location             Year                                              \n",
       "Albania              2000          ALB  GDP per capita (current US$)   \n",
       "Andorra              2000          AND  GDP per capita (current US$)   \n",
       "United Arab Emirates 2000          ARE  GDP per capita (current US$)   \n",
       "Argentina            2000          ARG  GDP per capita (current US$)   \n",
       "Armenia              2000          ARM  GDP per capita (current US$)   \n",
       "...                                ...                           ...   \n",
       "Vanuatu              2018          VUT  GDP per capita (current US$)   \n",
       "Samoa                2018          WSM  GDP per capita (current US$)   \n",
       "South Africa         2018          ZAF  GDP per capita (current US$)   \n",
       "Zambia               2018          ZMB  GDP per capita (current US$)   \n",
       "Zimbabwe             2018          ZWE  GDP per capita (current US$)   \n",
       "\n",
       "                           Indicator Code           gdp     ratio  \n",
       "Location             Year                                          \n",
       "Albania              2000  NY.GDP.PCAP.CD   1126.683318  0.193380  \n",
       "Andorra              2000  NY.GDP.PCAP.CD  21854.246803  0.701878  \n",
       "United Arab Emirates 2000  NY.GDP.PCAP.CD  33291.366254  0.030733  \n",
       "Argentina            2000  NY.GDP.PCAP.CD   7708.099115  0.728972  \n",
       "Armenia              2000  NY.GDP.PCAP.CD    622.740923  0.039334  \n",
       "...                                   ...           ...       ...  \n",
       "Vanuatu              2018  NY.GDP.PCAP.CD   3125.404999  0.073333  \n",
       "Samoa                2018  NY.GDP.PCAP.CD   4188.571058  0.414216  \n",
       "South Africa         2018  NY.GDP.PCAP.CD   6372.605655  0.341880  \n",
       "Zambia               2018  NY.GDP.PCAP.CD   1516.371100  0.176000  \n",
       "Zimbabwe             2018  NY.GDP.PCAP.CD   1352.162653  0.049057  \n",
       "\n",
       "[1179 rows x 5 columns]"
      ]
     },
     "execution_count": 81,
     "metadata": {},
     "output_type": "execute_result"
    }
   ],
   "source": [
    "# https://data.worldbank.org/indicator/NY.GDP.PCAP.CD?end=2020&start=2020&view=map\n",
    "# took the file out from zip and renamed it capita.csv\n",
    "\n",
    "# per capita gdp in US dollars\n",
    "gdp = pd.read_csv(\"capita.csv\", skiprows=4)\n",
    "gdp = gdp.drop(columns = \"Unnamed: 65\")\n",
    "gdp = gdp.melt(id_vars = ['Country Name', 'Country Code', 'Indicator Name', 'Indicator Code'], var_name=\"Year\", value_name=\"gdp\")\n",
    "gdp[\"Year\"] = gdp[\"Year\"].astype(int)\n",
    "gdp = gdp.rename(columns = {\"Country Name\": \"Location\"}).set_index([\"Location\", \"Year\"])\n",
    "gdp = gdp.join(bi, how = 'inner')\n",
    "gdp = gdp.rename(columns = {'Value': 'ratio'})\n",
    "\n",
    "# USE THIS CSV!\n",
    "gdp.to_csv(\"gdp_ratio.csv\")\n",
    "gdp"
   ]
  },
  {
   "cell_type": "code",
   "execution_count": 87,
   "metadata": {},
   "outputs": [
    {
     "name": "stdout",
     "output_type": "stream",
     "text": [
      "2000 Ttest_indResult(statistic=-4.3417312299980555, pvalue=4.921225316347367e-05)\n",
      "2005 Ttest_indResult(statistic=-5.211523827620225, pvalue=3.1083130244435693e-06)\n",
      "2010 Ttest_indResult(statistic=-5.8500150411269765, pvalue=4.0896064795434757e-07)\n",
      "2013 Ttest_indResult(statistic=-5.585274591795242, pvalue=1.265515532204858e-06)\n",
      "2014 Ttest_indResult(statistic=-5.687937705799372, pvalue=9.089424558415929e-07)\n",
      "2015 Ttest_indResult(statistic=-5.7876845529811725, pvalue=6.123901460648223e-07)\n",
      "2016 Ttest_indResult(statistic=-5.9256465622444425, pvalue=3.898280845130553e-07)\n",
      "2017 Ttest_indResult(statistic=-6.04617494788731, pvalue=2.563073196919864e-07)\n",
      "2018 Ttest_indResult(statistic=-6.022322707134112, pvalue=2.7523267346638726e-07)\n"
     ]
    }
   ],
   "source": [
    "for year, dat in gdp.groupby('Year'):\n",
    "    print(year, stats.ttest_ind(dat[dat[\"ratio\"]<.5]['gdp'], dat[dat[\"ratio\"]>.5]['gdp'], nan_policy = 'omit', equal_var = False))"
   ]
  },
  {
   "cell_type": "code",
   "execution_count": 99,
   "metadata": {},
   "outputs": [
    {
     "data": {
      "text/html": [
       "<div>\n",
       "<style scoped>\n",
       "    .dataframe tbody tr th:only-of-type {\n",
       "        vertical-align: middle;\n",
       "    }\n",
       "\n",
       "    .dataframe tbody tr th {\n",
       "        vertical-align: top;\n",
       "    }\n",
       "\n",
       "    .dataframe thead th {\n",
       "        text-align: right;\n",
       "    }\n",
       "</style>\n",
       "<table border=\"1\" class=\"dataframe\">\n",
       "  <thead>\n",
       "    <tr style=\"text-align: right;\">\n",
       "      <th></th>\n",
       "      <th>Mean GDP for Low Ratio Group</th>\n",
       "      <th>Mean GDP for High Ratio Group</th>\n",
       "      <th>t-Test Statistic</th>\n",
       "      <th>P-value</th>\n",
       "    </tr>\n",
       "    <tr>\n",
       "      <th>Year</th>\n",
       "      <th></th>\n",
       "      <th></th>\n",
       "      <th></th>\n",
       "      <th></th>\n",
       "    </tr>\n",
       "  </thead>\n",
       "  <tbody>\n",
       "    <tr>\n",
       "      <th>2000</th>\n",
       "      <td>4197.722280</td>\n",
       "      <td>12993.534163</td>\n",
       "      <td>-4.341731</td>\n",
       "      <td>4.921225e-05</td>\n",
       "    </tr>\n",
       "    <tr>\n",
       "      <th>2005</th>\n",
       "      <td>5687.998200</td>\n",
       "      <td>22890.267899</td>\n",
       "      <td>-5.211524</td>\n",
       "      <td>3.108313e-06</td>\n",
       "    </tr>\n",
       "    <tr>\n",
       "      <th>2010</th>\n",
       "      <td>7311.245934</td>\n",
       "      <td>30636.772876</td>\n",
       "      <td>-5.850015</td>\n",
       "      <td>4.089606e-07</td>\n",
       "    </tr>\n",
       "    <tr>\n",
       "      <th>2013</th>\n",
       "      <td>9141.481501</td>\n",
       "      <td>35253.981011</td>\n",
       "      <td>-5.585275</td>\n",
       "      <td>1.265516e-06</td>\n",
       "    </tr>\n",
       "    <tr>\n",
       "      <th>2014</th>\n",
       "      <td>8985.516854</td>\n",
       "      <td>35654.945435</td>\n",
       "      <td>-5.687938</td>\n",
       "      <td>9.089425e-07</td>\n",
       "    </tr>\n",
       "    <tr>\n",
       "      <th>2015</th>\n",
       "      <td>7862.592042</td>\n",
       "      <td>30955.671389</td>\n",
       "      <td>-5.787685</td>\n",
       "      <td>6.123901e-07</td>\n",
       "    </tr>\n",
       "    <tr>\n",
       "      <th>2016</th>\n",
       "      <td>7758.297324</td>\n",
       "      <td>31423.321730</td>\n",
       "      <td>-5.925647</td>\n",
       "      <td>3.898281e-07</td>\n",
       "    </tr>\n",
       "    <tr>\n",
       "      <th>2017</th>\n",
       "      <td>8218.575266</td>\n",
       "      <td>33506.665575</td>\n",
       "      <td>-6.046175</td>\n",
       "      <td>2.563073e-07</td>\n",
       "    </tr>\n",
       "    <tr>\n",
       "      <th>2018</th>\n",
       "      <td>8758.580757</td>\n",
       "      <td>35822.181356</td>\n",
       "      <td>-6.022323</td>\n",
       "      <td>2.752327e-07</td>\n",
       "    </tr>\n",
       "  </tbody>\n",
       "</table>\n",
       "</div>"
      ],
      "text/plain": [
       "      Mean GDP for Low Ratio Group  Mean GDP for High Ratio Group  \\\n",
       "Year                                                                \n",
       "2000                   4197.722280                   12993.534163   \n",
       "2005                   5687.998200                   22890.267899   \n",
       "2010                   7311.245934                   30636.772876   \n",
       "2013                   9141.481501                   35253.981011   \n",
       "2014                   8985.516854                   35654.945435   \n",
       "2015                   7862.592042                   30955.671389   \n",
       "2016                   7758.297324                   31423.321730   \n",
       "2017                   8218.575266                   33506.665575   \n",
       "2018                   8758.580757                   35822.181356   \n",
       "\n",
       "      t-Test Statistic       P-value  \n",
       "Year                                  \n",
       "2000         -4.341731  4.921225e-05  \n",
       "2005         -5.211524  3.108313e-06  \n",
       "2010         -5.850015  4.089606e-07  \n",
       "2013         -5.585275  1.265516e-06  \n",
       "2014         -5.687938  9.089425e-07  \n",
       "2015         -5.787685  6.123901e-07  \n",
       "2016         -5.925647  3.898281e-07  \n",
       "2017         -6.046175  2.563073e-07  \n",
       "2018         -6.022323  2.752327e-07  "
      ]
     },
     "execution_count": 99,
     "metadata": {},
     "output_type": "execute_result"
    }
   ],
   "source": [
    "vals = []\n",
    "for year, dat in gdp.groupby('Year'):\n",
    "    low = dat[dat[\"ratio\"]<.5]['gdp']\n",
    "    high = dat[dat[\"ratio\"]>.5]['gdp']\n",
    "    ttest = stats.ttest_ind(low, high, nan_policy = 'omit', equal_var = False)\n",
    "    vals.append([year, low.mean(), high.mean(), ttest.statistic, ttest.pvalue])\n",
    "pd.DataFrame(vals, columns = ['Year', \"Mean GDP for Low Ratio Group\", \"Mean GDP for High Ratio Group\", \"t-Test Statistic\", \"P-value\"]).set_index('Year')"
   ]
  },
  {
   "cell_type": "code",
   "execution_count": 49,
   "metadata": {},
   "outputs": [],
   "source": [
    "gdp = gdp.reset_index()\n",
    "gdp = gdp[gdp[\"Year\"] == 2018]"
   ]
  },
  {
   "cell_type": "code",
   "execution_count": 57,
   "metadata": {},
   "outputs": [
    {
     "data": {
      "text/plain": [
       "Ttest_indResult(statistic=-7.8013874793796925, pvalue=1.8830294927140458e-12)"
      ]
     },
     "execution_count": 57,
     "metadata": {},
     "output_type": "execute_result"
    }
   ],
   "source": [
    "from scipy import stats\n",
    "stats.ttest_ind(gdp[gdp[\"ratio\"]<.5]['gdp'], gdp[gdp[\"ratio\"]>.5]['gdp'], nan_policy = 'omit')"
   ]
  },
  {
   "cell_type": "code",
   "execution_count": 59,
   "metadata": {},
   "outputs": [
    {
     "data": {
      "text/plain": [
       "Ttest_indResult(statistic=-4.924504356815301, pvalue=2.5779209831240644e-06)"
      ]
     },
     "execution_count": 59,
     "metadata": {},
     "output_type": "execute_result"
    }
   ],
   "source": [
    "gdp = gdp.reset_index()\n",
    "gdp = gdp[gdp[\"Year\"] == 2000]\n",
    "stats.ttest_ind(gdp[gdp[\"ratio\"]<.5]['gdp'], gdp[gdp[\"ratio\"]>.5]['gdp'], nan_policy = 'omit')"
   ]
  },
  {
   "cell_type": "code",
   "execution_count": 51,
   "metadata": {},
   "outputs": [
    {
     "data": {
      "text/plain": [
       "count       91.000000\n",
       "mean      8758.580757\n",
       "std      12824.888418\n",
       "min        271.752496\n",
       "25%       1470.141080\n",
       "50%       4134.979372\n",
       "75%       9749.570307\n",
       "max      66679.046490\n",
       "Name: gdp, dtype: float64"
      ]
     },
     "execution_count": 51,
     "metadata": {},
     "output_type": "execute_result"
    }
   ],
   "source": [
    "gdp[gdp[\"ratio\"]<.5]['gdp'].describe()"
   ]
  },
  {
   "cell_type": "code",
   "execution_count": 38,
   "metadata": {},
   "outputs": [
    {
     "data": {
      "text/plain": [
       "count       365.000000\n",
       "mean      29364.696116\n",
       "std       24559.067985\n",
       "min          99.744920\n",
       "25%        9427.730430\n",
       "50%       22364.029394\n",
       "75%       44572.898754\n",
       "max      118823.648369\n",
       "Name: gdp, dtype: float64"
      ]
     },
     "execution_count": 38,
     "metadata": {},
     "output_type": "execute_result"
    }
   ],
   "source": [
    "gdp[gdp[\"ratio\"]>.5]['gdp'].describe()"
   ]
  },
  {
   "cell_type": "code",
   "execution_count": 41,
   "metadata": {},
   "outputs": [
    {
     "data": {
      "text/html": [
       "<div>\n",
       "<style scoped>\n",
       "    .dataframe tbody tr th:only-of-type {\n",
       "        vertical-align: middle;\n",
       "    }\n",
       "\n",
       "    .dataframe tbody tr th {\n",
       "        vertical-align: top;\n",
       "    }\n",
       "\n",
       "    .dataframe thead th {\n",
       "        text-align: right;\n",
       "    }\n",
       "</style>\n",
       "<table border=\"1\" class=\"dataframe\">\n",
       "  <thead>\n",
       "    <tr style=\"text-align: right;\">\n",
       "      <th></th>\n",
       "      <th>Location</th>\n",
       "      <th>Year</th>\n",
       "      <th>Country Code</th>\n",
       "      <th>Indicator Name</th>\n",
       "      <th>Indicator Code</th>\n",
       "      <th>gdp</th>\n",
       "      <th>ratio</th>\n",
       "    </tr>\n",
       "  </thead>\n",
       "  <tbody>\n",
       "    <tr>\n",
       "      <th>0</th>\n",
       "      <td>Albania</td>\n",
       "      <td>2000</td>\n",
       "      <td>ALB</td>\n",
       "      <td>GDP per capita (current US$)</td>\n",
       "      <td>NY.GDP.PCAP.CD</td>\n",
       "      <td>1126.683318</td>\n",
       "      <td>0.193380</td>\n",
       "    </tr>\n",
       "    <tr>\n",
       "      <th>1</th>\n",
       "      <td>Andorra</td>\n",
       "      <td>2000</td>\n",
       "      <td>AND</td>\n",
       "      <td>GDP per capita (current US$)</td>\n",
       "      <td>NY.GDP.PCAP.CD</td>\n",
       "      <td>21854.246803</td>\n",
       "      <td>0.701878</td>\n",
       "    </tr>\n",
       "    <tr>\n",
       "      <th>2</th>\n",
       "      <td>United Arab Emirates</td>\n",
       "      <td>2000</td>\n",
       "      <td>ARE</td>\n",
       "      <td>GDP per capita (current US$)</td>\n",
       "      <td>NY.GDP.PCAP.CD</td>\n",
       "      <td>33291.366254</td>\n",
       "      <td>0.030733</td>\n",
       "    </tr>\n",
       "    <tr>\n",
       "      <th>3</th>\n",
       "      <td>Argentina</td>\n",
       "      <td>2000</td>\n",
       "      <td>ARG</td>\n",
       "      <td>GDP per capita (current US$)</td>\n",
       "      <td>NY.GDP.PCAP.CD</td>\n",
       "      <td>7708.099115</td>\n",
       "      <td>0.728972</td>\n",
       "    </tr>\n",
       "    <tr>\n",
       "      <th>4</th>\n",
       "      <td>Armenia</td>\n",
       "      <td>2000</td>\n",
       "      <td>ARM</td>\n",
       "      <td>GDP per capita (current US$)</td>\n",
       "      <td>NY.GDP.PCAP.CD</td>\n",
       "      <td>622.740923</td>\n",
       "      <td>0.039334</td>\n",
       "    </tr>\n",
       "    <tr>\n",
       "      <th>...</th>\n",
       "      <td>...</td>\n",
       "      <td>...</td>\n",
       "      <td>...</td>\n",
       "      <td>...</td>\n",
       "      <td>...</td>\n",
       "      <td>...</td>\n",
       "      <td>...</td>\n",
       "    </tr>\n",
       "    <tr>\n",
       "      <th>1174</th>\n",
       "      <td>Vanuatu</td>\n",
       "      <td>2018</td>\n",
       "      <td>VUT</td>\n",
       "      <td>GDP per capita (current US$)</td>\n",
       "      <td>NY.GDP.PCAP.CD</td>\n",
       "      <td>3125.404999</td>\n",
       "      <td>0.073333</td>\n",
       "    </tr>\n",
       "    <tr>\n",
       "      <th>1175</th>\n",
       "      <td>Samoa</td>\n",
       "      <td>2018</td>\n",
       "      <td>WSM</td>\n",
       "      <td>GDP per capita (current US$)</td>\n",
       "      <td>NY.GDP.PCAP.CD</td>\n",
       "      <td>4188.571058</td>\n",
       "      <td>0.414216</td>\n",
       "    </tr>\n",
       "    <tr>\n",
       "      <th>1176</th>\n",
       "      <td>South Africa</td>\n",
       "      <td>2018</td>\n",
       "      <td>ZAF</td>\n",
       "      <td>GDP per capita (current US$)</td>\n",
       "      <td>NY.GDP.PCAP.CD</td>\n",
       "      <td>6372.605655</td>\n",
       "      <td>0.341880</td>\n",
       "    </tr>\n",
       "    <tr>\n",
       "      <th>1177</th>\n",
       "      <td>Zambia</td>\n",
       "      <td>2018</td>\n",
       "      <td>ZMB</td>\n",
       "      <td>GDP per capita (current US$)</td>\n",
       "      <td>NY.GDP.PCAP.CD</td>\n",
       "      <td>1516.371100</td>\n",
       "      <td>0.176000</td>\n",
       "    </tr>\n",
       "    <tr>\n",
       "      <th>1178</th>\n",
       "      <td>Zimbabwe</td>\n",
       "      <td>2018</td>\n",
       "      <td>ZWE</td>\n",
       "      <td>GDP per capita (current US$)</td>\n",
       "      <td>NY.GDP.PCAP.CD</td>\n",
       "      <td>1352.162653</td>\n",
       "      <td>0.049057</td>\n",
       "    </tr>\n",
       "  </tbody>\n",
       "</table>\n",
       "<p>1179 rows × 7 columns</p>\n",
       "</div>"
      ],
      "text/plain": [
       "                  Location  Year Country Code                Indicator Name  \\\n",
       "0                  Albania  2000          ALB  GDP per capita (current US$)   \n",
       "1                  Andorra  2000          AND  GDP per capita (current US$)   \n",
       "2     United Arab Emirates  2000          ARE  GDP per capita (current US$)   \n",
       "3                Argentina  2000          ARG  GDP per capita (current US$)   \n",
       "4                  Armenia  2000          ARM  GDP per capita (current US$)   \n",
       "...                    ...   ...          ...                           ...   \n",
       "1174               Vanuatu  2018          VUT  GDP per capita (current US$)   \n",
       "1175                 Samoa  2018          WSM  GDP per capita (current US$)   \n",
       "1176          South Africa  2018          ZAF  GDP per capita (current US$)   \n",
       "1177                Zambia  2018          ZMB  GDP per capita (current US$)   \n",
       "1178              Zimbabwe  2018          ZWE  GDP per capita (current US$)   \n",
       "\n",
       "      Indicator Code           gdp     ratio  \n",
       "0     NY.GDP.PCAP.CD   1126.683318  0.193380  \n",
       "1     NY.GDP.PCAP.CD  21854.246803  0.701878  \n",
       "2     NY.GDP.PCAP.CD  33291.366254  0.030733  \n",
       "3     NY.GDP.PCAP.CD   7708.099115  0.728972  \n",
       "4     NY.GDP.PCAP.CD    622.740923  0.039334  \n",
       "...              ...           ...       ...  \n",
       "1174  NY.GDP.PCAP.CD   3125.404999  0.073333  \n",
       "1175  NY.GDP.PCAP.CD   4188.571058  0.414216  \n",
       "1176  NY.GDP.PCAP.CD   6372.605655  0.341880  \n",
       "1177  NY.GDP.PCAP.CD   1516.371100  0.176000  \n",
       "1178  NY.GDP.PCAP.CD   1352.162653  0.049057  \n",
       "\n",
       "[1179 rows x 7 columns]"
      ]
     },
     "execution_count": 41,
     "metadata": {},
     "output_type": "execute_result"
    }
   ],
   "source": [
    "gdp"
   ]
  },
  {
   "cell_type": "code",
   "execution_count": 39,
   "metadata": {},
   "outputs": [],
   "source": [
    "# distributions are definetly different, though can't use a normal distribution (see below), may need a log transformation"
   ]
  },
  {
   "cell_type": "code",
   "execution_count": null,
   "metadata": {},
   "outputs": [],
   "source": []
  },
  {
   "cell_type": "code",
   "execution_count": 16,
   "metadata": {},
   "outputs": [],
   "source": [
    "# looks somewhat better with log transform"
   ]
  },
  {
   "cell_type": "code",
   "execution_count": 17,
   "metadata": {},
   "outputs": [
    {
     "data": {
      "image/png": "[encoded data removed]",
      "text/plain": [
       "<Figure size 432x288 with 1 Axes>"
      ]
     },
     "metadata": {
      "needs_background": "light"
     },
     "output_type": "display_data"
    },
    {
     "data": {
      "image/png": "[encoded data removed]",
      "text/plain": [
       "<Figure size 432x288 with 1 Axes>"
      ]
     },
     "metadata": {
      "needs_background": "light"
     },
     "output_type": "display_data"
    }
   ],
   "source": [
    "np.log(gdp[gdp[\"ratio\"]<.5]['gdp']).hist()\n",
    "plt.show()\n",
    "np.log(gdp[gdp[\"ratio\"]>.5]['gdp']).hist()\n",
    "plt.show()"
   ]
  },
  {
   "cell_type": "code",
   "execution_count": null,
   "metadata": {},
   "outputs": [],
   "source": []
  },
  {
   "cell_type": "code",
   "execution_count": 18,
   "metadata": {},
   "outputs": [],
   "source": [
    "# let's see whether having a high female/make smoker ratio means less or more smoking"
   ]
  },
  {
   "cell_type": "code",
   "execution_count": 17,
   "metadata": {},
   "outputs": [
    {
     "data": {
      "text/html": [
       "<div>\n",
       "<style scoped>\n",
       "    .dataframe tbody tr th:only-of-type {\n",
       "        vertical-align: middle;\n",
       "    }\n",
       "\n",
       "    .dataframe tbody tr th {\n",
       "        vertical-align: top;\n",
       "    }\n",
       "\n",
       "    .dataframe thead th {\n",
       "        text-align: right;\n",
       "    }\n",
       "</style>\n",
       "<table border=\"1\" class=\"dataframe\">\n",
       "  <thead>\n",
       "    <tr style=\"text-align: right;\">\n",
       "      <th></th>\n",
       "      <th></th>\n",
       "      <th>ParentLocationCode</th>\n",
       "      <th>ParentLocation</th>\n",
       "      <th>SpatialDimValueCode</th>\n",
       "      <th>Gender</th>\n",
       "      <th>Value</th>\n",
       "      <th>ratio</th>\n",
       "    </tr>\n",
       "    <tr>\n",
       "      <th>Location</th>\n",
       "      <th>Year</th>\n",
       "      <th></th>\n",
       "      <th></th>\n",
       "      <th></th>\n",
       "      <th></th>\n",
       "      <th></th>\n",
       "      <th></th>\n",
       "    </tr>\n",
       "  </thead>\n",
       "  <tbody>\n",
       "    <tr>\n",
       "      <th>Eswatini</th>\n",
       "      <th>2018</th>\n",
       "      <td>AFR</td>\n",
       "      <td>Africa</td>\n",
       "      <td>SWZ</td>\n",
       "      <td>Both sexes</td>\n",
       "      <td>10.7</td>\n",
       "      <td>0.115183</td>\n",
       "    </tr>\n",
       "    <tr>\n",
       "      <th>Bahamas</th>\n",
       "      <th>2018</th>\n",
       "      <td>AMR</td>\n",
       "      <td>Americas</td>\n",
       "      <td>BHS</td>\n",
       "      <td>Both sexes</td>\n",
       "      <td>10.9</td>\n",
       "      <td>0.172043</td>\n",
       "    </tr>\n",
       "    <tr>\n",
       "      <th>Jamaica</th>\n",
       "      <th>2018</th>\n",
       "      <td>AMR</td>\n",
       "      <td>Americas</td>\n",
       "      <td>JAM</td>\n",
       "      <td>Both sexes</td>\n",
       "      <td>11.0</td>\n",
       "      <td>0.237288</td>\n",
       "    </tr>\n",
       "    <tr>\n",
       "      <th>Chad</th>\n",
       "      <th>2018</th>\n",
       "      <td>AFR</td>\n",
       "      <td>Africa</td>\n",
       "      <td>TCD</td>\n",
       "      <td>Both sexes</td>\n",
       "      <td>11.8</td>\n",
       "      <td>0.107981</td>\n",
       "    </tr>\n",
       "    <tr>\n",
       "      <th>Kenya</th>\n",
       "      <th>2018</th>\n",
       "      <td>AFR</td>\n",
       "      <td>Africa</td>\n",
       "      <td>KEN</td>\n",
       "      <td>Both sexes</td>\n",
       "      <td>11.8</td>\n",
       "      <td>0.134615</td>\n",
       "    </tr>\n",
       "    <tr>\n",
       "      <th>...</th>\n",
       "      <th>...</th>\n",
       "      <td>...</td>\n",
       "      <td>...</td>\n",
       "      <td>...</td>\n",
       "      <td>...</td>\n",
       "      <td>...</td>\n",
       "      <td>...</td>\n",
       "    </tr>\n",
       "    <tr>\n",
       "      <th>Kiribati</th>\n",
       "      <th>2000</th>\n",
       "      <td>WPR</td>\n",
       "      <td>Western Pacific</td>\n",
       "      <td>KIR</td>\n",
       "      <td>Both sexes</td>\n",
       "      <td>67.9</td>\n",
       "      <td>0.662179</td>\n",
       "    </tr>\n",
       "    <tr>\n",
       "      <th>Nigeria</th>\n",
       "      <th>2000</th>\n",
       "      <td>AFR</td>\n",
       "      <td>Africa</td>\n",
       "      <td>NGA</td>\n",
       "      <td>Both sexes</td>\n",
       "      <td>7.3</td>\n",
       "      <td>0.131783</td>\n",
       "    </tr>\n",
       "    <tr>\n",
       "      <th>Niger</th>\n",
       "      <th>2000</th>\n",
       "      <td>AFR</td>\n",
       "      <td>Africa</td>\n",
       "      <td>NER</td>\n",
       "      <td>Both sexes</td>\n",
       "      <td>7.9</td>\n",
       "      <td>0.161765</td>\n",
       "    </tr>\n",
       "    <tr>\n",
       "      <th>Nauru</th>\n",
       "      <th>2000</th>\n",
       "      <td>WPR</td>\n",
       "      <td>Western Pacific</td>\n",
       "      <td>NRU</td>\n",
       "      <td>Both sexes</td>\n",
       "      <td>71.0</td>\n",
       "      <td>1.137048</td>\n",
       "    </tr>\n",
       "    <tr>\n",
       "      <th>Oman</th>\n",
       "      <th>2000</th>\n",
       "      <td>EMR</td>\n",
       "      <td>Eastern Mediterranean</td>\n",
       "      <td>OMN</td>\n",
       "      <td>Both sexes</td>\n",
       "      <td>9.5</td>\n",
       "      <td>0.067039</td>\n",
       "    </tr>\n",
       "  </tbody>\n",
       "</table>\n",
       "<p>1341 rows × 6 columns</p>\n",
       "</div>"
      ],
      "text/plain": [
       "              ParentLocationCode         ParentLocation SpatialDimValueCode  \\\n",
       "Location Year                                                                 \n",
       "Eswatini 2018                AFR                 Africa                 SWZ   \n",
       "Bahamas  2018                AMR               Americas                 BHS   \n",
       "Jamaica  2018                AMR               Americas                 JAM   \n",
       "Chad     2018                AFR                 Africa                 TCD   \n",
       "Kenya    2018                AFR                 Africa                 KEN   \n",
       "...                          ...                    ...                 ...   \n",
       "Kiribati 2000                WPR        Western Pacific                 KIR   \n",
       "Nigeria  2000                AFR                 Africa                 NGA   \n",
       "Niger    2000                AFR                 Africa                 NER   \n",
       "Nauru    2000                WPR        Western Pacific                 NRU   \n",
       "Oman     2000                EMR  Eastern Mediterranean                 OMN   \n",
       "\n",
       "                   Gender  Value     ratio  \n",
       "Location Year                               \n",
       "Eswatini 2018  Both sexes   10.7  0.115183  \n",
       "Bahamas  2018  Both sexes   10.9  0.172043  \n",
       "Jamaica  2018  Both sexes   11.0  0.237288  \n",
       "Chad     2018  Both sexes   11.8  0.107981  \n",
       "Kenya    2018  Both sexes   11.8  0.134615  \n",
       "...                   ...    ...       ...  \n",
       "Kiribati 2000  Both sexes   67.9  0.662179  \n",
       "Nigeria  2000  Both sexes    7.3  0.131783  \n",
       "Niger    2000  Both sexes    7.9  0.161765  \n",
       "Nauru    2000  Both sexes   71.0  1.137048  \n",
       "Oman     2000  Both sexes    9.5  0.067039  \n",
       "\n",
       "[1341 rows x 6 columns]"
      ]
     },
     "execution_count": 17,
     "metadata": {},
     "output_type": "execute_result"
    }
   ],
   "source": [
    "both = ww_tobacco[ww_tobacco[\"Gender\"] == \"Both sexes\"].set_index([\"Location\", \"Year\"])\n",
    "both[\"ratio\"] = bi\n",
    "\n",
    "# USE THIS CSV\n",
    "both.to_csv(\"both_ratio.csv\")\n",
    "both"
   ]
  },
  {
   "cell_type": "code",
   "execution_count": 19,
   "metadata": {},
   "outputs": [],
   "source": [
    "from scipy import stats"
   ]
  },
  {
   "cell_type": "code",
   "execution_count": 20,
   "metadata": {},
   "outputs": [
    {
     "data": {
      "text/html": [
       "<div>\n",
       "<style scoped>\n",
       "    .dataframe tbody tr th:only-of-type {\n",
       "        vertical-align: middle;\n",
       "    }\n",
       "\n",
       "    .dataframe tbody tr th {\n",
       "        vertical-align: top;\n",
       "    }\n",
       "\n",
       "    .dataframe thead th {\n",
       "        text-align: right;\n",
       "    }\n",
       "</style>\n",
       "<table border=\"1\" class=\"dataframe\">\n",
       "  <thead>\n",
       "    <tr style=\"text-align: right;\">\n",
       "      <th></th>\n",
       "      <th>Smoker % for Low Ratio Group</th>\n",
       "      <th>Smoker % for High Ratio Group</th>\n",
       "      <th>t-Test Statistic</th>\n",
       "      <th>P-value</th>\n",
       "    </tr>\n",
       "    <tr>\n",
       "      <th>Year</th>\n",
       "      <th></th>\n",
       "      <th></th>\n",
       "      <th></th>\n",
       "      <th></th>\n",
       "    </tr>\n",
       "  </thead>\n",
       "  <tbody>\n",
       "    <tr>\n",
       "      <th>2000</th>\n",
       "      <td>26.196875</td>\n",
       "      <td>39.801887</td>\n",
       "      <td>-7.034893</td>\n",
       "      <td>1.685012e-10</td>\n",
       "    </tr>\n",
       "    <tr>\n",
       "      <th>2005</th>\n",
       "      <td>24.628283</td>\n",
       "      <td>34.662000</td>\n",
       "      <td>-5.574089</td>\n",
       "      <td>1.671684e-07</td>\n",
       "    </tr>\n",
       "    <tr>\n",
       "      <th>2010</th>\n",
       "      <td>22.712621</td>\n",
       "      <td>31.471739</td>\n",
       "      <td>-5.059670</td>\n",
       "      <td>1.939616e-06</td>\n",
       "    </tr>\n",
       "    <tr>\n",
       "      <th>2013</th>\n",
       "      <td>21.669811</td>\n",
       "      <td>30.104651</td>\n",
       "      <td>-4.773403</td>\n",
       "      <td>7.828806e-06</td>\n",
       "    </tr>\n",
       "    <tr>\n",
       "      <th>2014</th>\n",
       "      <td>21.226667</td>\n",
       "      <td>29.611628</td>\n",
       "      <td>-4.743312</td>\n",
       "      <td>8.905756e-06</td>\n",
       "    </tr>\n",
       "    <tr>\n",
       "      <th>2015</th>\n",
       "      <td>20.865714</td>\n",
       "      <td>29.143182</td>\n",
       "      <td>-4.773708</td>\n",
       "      <td>7.616055e-06</td>\n",
       "    </tr>\n",
       "    <tr>\n",
       "      <th>2016</th>\n",
       "      <td>20.512381</td>\n",
       "      <td>28.663636</td>\n",
       "      <td>-4.698435</td>\n",
       "      <td>1.042099e-05</td>\n",
       "    </tr>\n",
       "    <tr>\n",
       "      <th>2017</th>\n",
       "      <td>20.196190</td>\n",
       "      <td>28.227273</td>\n",
       "      <td>-4.634899</td>\n",
       "      <td>1.347679e-05</td>\n",
       "    </tr>\n",
       "    <tr>\n",
       "      <th>2018</th>\n",
       "      <td>19.887619</td>\n",
       "      <td>27.781818</td>\n",
       "      <td>-4.552921</td>\n",
       "      <td>1.864514e-05</td>\n",
       "    </tr>\n",
       "  </tbody>\n",
       "</table>\n",
       "</div>"
      ],
      "text/plain": [
       "      Smoker % for Low Ratio Group  Smoker % for High Ratio Group  \\\n",
       "Year                                                                \n",
       "2000                     26.196875                      39.801887   \n",
       "2005                     24.628283                      34.662000   \n",
       "2010                     22.712621                      31.471739   \n",
       "2013                     21.669811                      30.104651   \n",
       "2014                     21.226667                      29.611628   \n",
       "2015                     20.865714                      29.143182   \n",
       "2016                     20.512381                      28.663636   \n",
       "2017                     20.196190                      28.227273   \n",
       "2018                     19.887619                      27.781818   \n",
       "\n",
       "      t-Test Statistic       P-value  \n",
       "Year                                  \n",
       "2000         -7.034893  1.685012e-10  \n",
       "2005         -5.574089  1.671684e-07  \n",
       "2010         -5.059670  1.939616e-06  \n",
       "2013         -4.773403  7.828806e-06  \n",
       "2014         -4.743312  8.905756e-06  \n",
       "2015         -4.773708  7.616055e-06  \n",
       "2016         -4.698435  1.042099e-05  \n",
       "2017         -4.634899  1.347679e-05  \n",
       "2018         -4.552921  1.864514e-05  "
      ]
     },
     "execution_count": 20,
     "metadata": {},
     "output_type": "execute_result"
    }
   ],
   "source": [
    "vals = []\n",
    "for year, dat in both.groupby('Year'):\n",
    "    low = dat[dat[\"ratio\"]<.5]['Value']\n",
    "    high = dat[dat[\"ratio\"]>.5]['Value']\n",
    "    ttest = stats.ttest_ind(low, high, nan_policy = 'omit', equal_var = False)\n",
    "    vals.append([year, low.mean(), high.mean(), ttest.statistic, ttest.pvalue])\n",
    "pd.DataFrame(vals, columns = ['Year', \"Smoker % for Low Ratio Group\", \"Smoker % for High Ratio Group\", \"t-Test Statistic\", \"P-value\"]).set_index('Year')"
   ]
  },
  {
   "cell_type": "code",
   "execution_count": 20,
   "metadata": {},
   "outputs": [
    {
     "data": {
      "text/plain": [
       "count    411.000000\n",
       "mean      31.304136\n",
       "std       10.440769\n",
       "min        9.400000\n",
       "25%       24.400000\n",
       "50%       29.500000\n",
       "75%       36.300000\n",
       "max       71.000000\n",
       "Name: Value, dtype: float64"
      ]
     },
     "execution_count": 20,
     "metadata": {},
     "output_type": "execute_result"
    }
   ],
   "source": [
    "both[both['ratio']>.5][\"Value\"].describe()"
   ]
  },
  {
   "cell_type": "code",
   "execution_count": 21,
   "metadata": {},
   "outputs": [
    {
     "data": {
      "text/plain": [
       "count    929.000000\n",
       "mean      21.928741\n",
       "std       10.491698\n",
       "min        3.700000\n",
       "25%       13.600000\n",
       "50%       21.500000\n",
       "75%       28.700000\n",
       "max       61.800000\n",
       "Name: Value, dtype: float64"
      ]
     },
     "execution_count": 21,
     "metadata": {},
     "output_type": "execute_result"
    }
   ],
   "source": [
    "both[both['ratio']<.5][\"Value\"].describe()"
   ]
  },
  {
   "cell_type": "code",
   "execution_count": 22,
   "metadata": {},
   "outputs": [
    {
     "data": {
      "text/plain": [
       "<AxesSubplot:>"
      ]
     },
     "execution_count": 22,
     "metadata": {},
     "output_type": "execute_result"
    },
    {
     "data": {
      "image/png": "[encoded data removed]",
      "text/plain": [
       "<Figure size 432x288 with 1 Axes>"
      ]
     },
     "metadata": {
      "needs_background": "light"
     },
     "output_type": "display_data"
    }
   ],
   "source": [
    "both[both['ratio']>.5][\"Value\"].hist()"
   ]
  },
  {
   "cell_type": "code",
   "execution_count": 23,
   "metadata": {},
   "outputs": [
    {
     "data": {
      "text/plain": [
       "<AxesSubplot:>"
      ]
     },
     "execution_count": 23,
     "metadata": {},
     "output_type": "execute_result"
    },
    {
     "data": {
      "image/png": "[encoded data removed]",
      "text/plain": [
       "<Figure size 432x288 with 1 Axes>"
      ]
     },
     "metadata": {
      "needs_background": "light"
     },
     "output_type": "display_data"
    }
   ],
   "source": [
    "both[both['ratio']<.5][\"Value\"].hist()"
   ]
  },
  {
   "cell_type": "code",
   "execution_count": 24,
   "metadata": {},
   "outputs": [
    {
     "data": {
      "text/plain": [
       "2018    149\n",
       "2017    149\n",
       "2016    149\n",
       "2015    149\n",
       "2014    149\n",
       "2013    149\n",
       "2010    149\n",
       "2005    149\n",
       "2000    149\n",
       "Name: Year, dtype: int64"
      ]
     },
     "execution_count": 24,
     "metadata": {},
     "output_type": "execute_result"
    }
   ],
   "source": [
    "both.reset_index()[\"Year\"].value_counts()"
   ]
  },
  {
   "cell_type": "code",
   "execution_count": 25,
   "metadata": {},
   "outputs": [
    {
     "data": {
      "text/plain": [
       "Location  Year\n",
       "Albania   2000    0.193380\n",
       "          2005    0.180832\n",
       "          2010    0.171053\n",
       "          2013    0.165385\n",
       "          2014    0.164410\n",
       "                    ...   \n",
       "Zimbabwe  2014    0.057348\n",
       "          2015    0.054545\n",
       "          2016    0.051471\n",
       "          2017    0.052045\n",
       "          2018    0.049057\n",
       "Name: Value, Length: 1341, dtype: float64"
      ]
     },
     "execution_count": 25,
     "metadata": {},
     "output_type": "execute_result"
    }
   ],
   "source": [
    "bi"
   ]
  },
  {
   "cell_type": "code",
   "execution_count": 26,
   "metadata": {},
   "outputs": [
    {
     "data": {
      "text/plain": [
       "0        Albania\n",
       "1        Albania\n",
       "2        Albania\n",
       "3        Albania\n",
       "4        Albania\n",
       "          ...   \n",
       "1336    Zimbabwe\n",
       "1337    Zimbabwe\n",
       "1338    Zimbabwe\n",
       "1339    Zimbabwe\n",
       "1340    Zimbabwe\n",
       "Name: Location, Length: 1341, dtype: object"
      ]
     },
     "execution_count": 26,
     "metadata": {},
     "output_type": "execute_result"
    }
   ],
   "source": [
    "bi.reset_index()[\"Location\"]"
   ]
  },
  {
   "cell_type": "code",
   "execution_count": 74,
   "metadata": {},
   "outputs": [
    {
     "data": {
      "text/html": [
       "<div>\n",
       "<style scoped>\n",
       "    .dataframe tbody tr th:only-of-type {\n",
       "        vertical-align: middle;\n",
       "    }\n",
       "\n",
       "    .dataframe tbody tr th {\n",
       "        vertical-align: top;\n",
       "    }\n",
       "\n",
       "    .dataframe thead th {\n",
       "        text-align: right;\n",
       "    }\n",
       "</style>\n",
       "<table border=\"1\" class=\"dataframe\">\n",
       "  <thead>\n",
       "    <tr style=\"text-align: right;\">\n",
       "      <th></th>\n",
       "      <th></th>\n",
       "      <th>gii</th>\n",
       "      <th>ratio</th>\n",
       "    </tr>\n",
       "    <tr>\n",
       "      <th>Location</th>\n",
       "      <th>Year</th>\n",
       "      <th></th>\n",
       "      <th></th>\n",
       "    </tr>\n",
       "  </thead>\n",
       "  <tbody>\n",
       "    <tr>\n",
       "      <th>Albania</th>\n",
       "      <th>2000</th>\n",
       "      <td>0.334</td>\n",
       "      <td>0.193380</td>\n",
       "    </tr>\n",
       "    <tr>\n",
       "      <th>Algeria</th>\n",
       "      <th>2000</th>\n",
       "      <td>0.624</td>\n",
       "      <td>0.056604</td>\n",
       "    </tr>\n",
       "    <tr>\n",
       "      <th>Argentina</th>\n",
       "      <th>2000</th>\n",
       "      <td>0.417</td>\n",
       "      <td>0.728972</td>\n",
       "    </tr>\n",
       "    <tr>\n",
       "      <th>Armenia</th>\n",
       "      <th>2000</th>\n",
       "      <td>0.473</td>\n",
       "      <td>0.039334</td>\n",
       "    </tr>\n",
       "    <tr>\n",
       "      <th>Australia</th>\n",
       "      <th>2000</th>\n",
       "      <td>0.160</td>\n",
       "      <td>0.842809</td>\n",
       "    </tr>\n",
       "    <tr>\n",
       "      <th>...</th>\n",
       "      <th>...</th>\n",
       "      <td>...</td>\n",
       "      <td>...</td>\n",
       "    </tr>\n",
       "    <tr>\n",
       "      <th>Uruguay</th>\n",
       "      <th>2018</th>\n",
       "      <td>0.285</td>\n",
       "      <td>0.730159</td>\n",
       "    </tr>\n",
       "    <tr>\n",
       "      <th>Uzbekistan</th>\n",
       "      <th>2018</th>\n",
       "      <td>0.288</td>\n",
       "      <td>0.055794</td>\n",
       "    </tr>\n",
       "    <tr>\n",
       "      <th>Yemen</th>\n",
       "      <th>2018</th>\n",
       "      <td>0.811</td>\n",
       "      <td>0.286154</td>\n",
       "    </tr>\n",
       "    <tr>\n",
       "      <th>Zambia</th>\n",
       "      <th>2018</th>\n",
       "      <td>0.539</td>\n",
       "      <td>0.176000</td>\n",
       "    </tr>\n",
       "    <tr>\n",
       "      <th>Zimbabwe</th>\n",
       "      <th>2018</th>\n",
       "      <td>0.532</td>\n",
       "      <td>0.049057</td>\n",
       "    </tr>\n",
       "  </tbody>\n",
       "</table>\n",
       "<p>1082 rows × 2 columns</p>\n",
       "</div>"
      ],
      "text/plain": [
       "                   gii     ratio\n",
       "Location   Year                 \n",
       "Albania    2000  0.334  0.193380\n",
       "Algeria    2000  0.624  0.056604\n",
       "Argentina  2000  0.417  0.728972\n",
       "Armenia    2000  0.473  0.039334\n",
       "Australia  2000  0.160  0.842809\n",
       "...                ...       ...\n",
       "Uruguay    2018  0.285  0.730159\n",
       "Uzbekistan 2018  0.288  0.055794\n",
       "Yemen      2018  0.811  0.286154\n",
       "Zambia     2018  0.539  0.176000\n",
       "Zimbabwe   2018  0.532  0.049057\n",
       "\n",
       "[1082 rows x 2 columns]"
      ]
     },
     "execution_count": 74,
     "metadata": {},
     "output_type": "execute_result"
    }
   ],
   "source": [
    "# un gender inequality\n",
    "# http://hdr.undp.org/en/indicators/68606#\n",
    "gii = pd.read_csv('gii.csv', skiprows=5, encoding='latin-1')\n",
    "gii = gii.drop(columns = gii.columns[gii.columns.str.contains(\"Unnamed\")])\n",
    "gii = gii.replace({\"..\": np.nan})\n",
    "gii = gii[gii[\"HDI Rank\"].str.isnumeric().fillna(False)].copy()\n",
    "gii = gii.drop(columns = \"HDI Rank\")\n",
    "gii = gii.melt(id_vars = [\"Country\"], var_name = \"Year\", value_name = \"gii\")\n",
    "gii[\"Year\"] = gii[\"Year\"].astype(int)\n",
    "gii[\"Country\"] = gii[\"Country\"].str.lstrip(' ')\n",
    "gii[\"gii\"] = gii[\"gii\"].astype(float)\n",
    "\n",
    "gii = gii.rename(columns = {\"Country\": \"Location\"}).set_index([\"Location\", \"Year\"])\n",
    "gii = gii.join(bi, how = 'inner').dropna()\n",
    "gii = gii.rename(columns = {\"Value\": 'ratio'})\n",
    "\n",
    "# USE THIS CSV\n",
    "gii.to_csv('gii_ratio.csv')\n",
    "gii"
   ]
  },
  {
   "cell_type": "code",
   "execution_count": 75,
   "metadata": {},
   "outputs": [],
   "source": [
    "gii = gii.reset_index()"
   ]
  },
  {
   "cell_type": "code",
   "execution_count": 100,
   "metadata": {},
   "outputs": [
    {
     "data": {
      "text/html": [
       "<div>\n",
       "<style scoped>\n",
       "    .dataframe tbody tr th:only-of-type {\n",
       "        vertical-align: middle;\n",
       "    }\n",
       "\n",
       "    .dataframe tbody tr th {\n",
       "        vertical-align: top;\n",
       "    }\n",
       "\n",
       "    .dataframe thead th {\n",
       "        text-align: right;\n",
       "    }\n",
       "</style>\n",
       "<table border=\"1\" class=\"dataframe\">\n",
       "  <thead>\n",
       "    <tr style=\"text-align: right;\">\n",
       "      <th></th>\n",
       "      <th>Mean GII for Low Ratio Group</th>\n",
       "      <th>Mean GII for High Ratio Group</th>\n",
       "      <th>t-Test Statistic</th>\n",
       "      <th>P-value</th>\n",
       "    </tr>\n",
       "    <tr>\n",
       "      <th>Year</th>\n",
       "      <th></th>\n",
       "      <th></th>\n",
       "      <th></th>\n",
       "      <th></th>\n",
       "    </tr>\n",
       "  </thead>\n",
       "  <tbody>\n",
       "    <tr>\n",
       "      <th>2000</th>\n",
       "      <td>0.518215</td>\n",
       "      <td>0.270629</td>\n",
       "      <td>6.923679</td>\n",
       "      <td>2.630869e-09</td>\n",
       "    </tr>\n",
       "    <tr>\n",
       "      <th>2005</th>\n",
       "      <td>0.486526</td>\n",
       "      <td>0.237950</td>\n",
       "      <td>7.930164</td>\n",
       "      <td>1.679084e-11</td>\n",
       "    </tr>\n",
       "    <tr>\n",
       "      <th>2010</th>\n",
       "      <td>0.452549</td>\n",
       "      <td>0.183872</td>\n",
       "      <td>10.737749</td>\n",
       "      <td>3.028661e-18</td>\n",
       "    </tr>\n",
       "    <tr>\n",
       "      <th>2013</th>\n",
       "      <td>0.425536</td>\n",
       "      <td>0.162595</td>\n",
       "      <td>10.296386</td>\n",
       "      <td>6.626695e-17</td>\n",
       "    </tr>\n",
       "    <tr>\n",
       "      <th>2014</th>\n",
       "      <td>0.428157</td>\n",
       "      <td>0.159417</td>\n",
       "      <td>10.308640</td>\n",
       "      <td>1.180397e-16</td>\n",
       "    </tr>\n",
       "    <tr>\n",
       "      <th>2015</th>\n",
       "      <td>0.431667</td>\n",
       "      <td>0.150162</td>\n",
       "      <td>11.292515</td>\n",
       "      <td>3.951036e-19</td>\n",
       "    </tr>\n",
       "    <tr>\n",
       "      <th>2016</th>\n",
       "      <td>0.425865</td>\n",
       "      <td>0.151737</td>\n",
       "      <td>10.948699</td>\n",
       "      <td>1.473232e-18</td>\n",
       "    </tr>\n",
       "    <tr>\n",
       "      <th>2017</th>\n",
       "      <td>0.412101</td>\n",
       "      <td>0.143027</td>\n",
       "      <td>10.759245</td>\n",
       "      <td>5.417311e-18</td>\n",
       "    </tr>\n",
       "    <tr>\n",
       "      <th>2018</th>\n",
       "      <td>0.408090</td>\n",
       "      <td>0.142211</td>\n",
       "      <td>10.832564</td>\n",
       "      <td>1.618473e-18</td>\n",
       "    </tr>\n",
       "  </tbody>\n",
       "</table>\n",
       "</div>"
      ],
      "text/plain": [
       "      Mean GII for Low Ratio Group  Mean GII for High Ratio Group  \\\n",
       "Year                                                                \n",
       "2000                      0.518215                       0.270629   \n",
       "2005                      0.486526                       0.237950   \n",
       "2010                      0.452549                       0.183872   \n",
       "2013                      0.425536                       0.162595   \n",
       "2014                      0.428157                       0.159417   \n",
       "2015                      0.431667                       0.150162   \n",
       "2016                      0.425865                       0.151737   \n",
       "2017                      0.412101                       0.143027   \n",
       "2018                      0.408090                       0.142211   \n",
       "\n",
       "      t-Test Statistic       P-value  \n",
       "Year                                  \n",
       "2000          6.923679  2.630869e-09  \n",
       "2005          7.930164  1.679084e-11  \n",
       "2010         10.737749  3.028661e-18  \n",
       "2013         10.296386  6.626695e-17  \n",
       "2014         10.308640  1.180397e-16  \n",
       "2015         11.292515  3.951036e-19  \n",
       "2016         10.948699  1.473232e-18  \n",
       "2017         10.759245  5.417311e-18  \n",
       "2018         10.832564  1.618473e-18  "
      ]
     },
     "execution_count": 100,
     "metadata": {},
     "output_type": "execute_result"
    }
   ],
   "source": [
    "vals = []\n",
    "for year, dat in gii.groupby('Year'):\n",
    "    low = dat[dat[\"ratio\"]<.5]['gii']\n",
    "    high = dat[dat[\"ratio\"]>.5]['gii']\n",
    "    ttest = stats.ttest_ind(low, high, nan_policy = 'omit', equal_var = False)\n",
    "    vals.append([year, low.mean(), high.mean(), ttest.statistic, ttest.pvalue])\n",
    "pd.DataFrame(vals, columns = ['Year', \"Mean GII for Low Ratio Group\", \"Mean GII for High Ratio Group\", \"t-Test Statistic\", \"P-value\"]).set_index('Year')"
   ]
  },
  {
   "cell_type": "code",
   "execution_count": 28,
   "metadata": {},
   "outputs": [
    {
     "data": {
      "text/plain": [
       "count    337.000000\n",
       "mean       0.177846\n",
       "std        0.134282\n",
       "min        0.039000\n",
       "25%        0.084000\n",
       "50%        0.134000\n",
       "75%        0.217000\n",
       "max        0.683000\n",
       "Name: gii, dtype: float64"
      ]
     },
     "execution_count": 28,
     "metadata": {},
     "output_type": "execute_result"
    }
   ],
   "source": [
    "gii[gii['ratio']>.5][\"gii\"].describe()"
   ]
  },
  {
   "cell_type": "code",
   "execution_count": 29,
   "metadata": {},
   "outputs": [
    {
     "data": {
      "text/plain": [
       "count    744.000000\n",
       "mean       0.440195\n",
       "std        0.158815\n",
       "min        0.066000\n",
       "25%        0.318750\n",
       "50%        0.452000\n",
       "75%        0.559000\n",
       "max        0.819000\n",
       "Name: gii, dtype: float64"
      ]
     },
     "execution_count": 29,
     "metadata": {},
     "output_type": "execute_result"
    }
   ],
   "source": [
    "gii[gii['ratio']<.5][\"gii\"].describe()"
   ]
  },
  {
   "cell_type": "code",
   "execution_count": 30,
   "metadata": {},
   "outputs": [
    {
     "data": {
      "text/plain": [
       "<AxesSubplot:>"
      ]
     },
     "execution_count": 30,
     "metadata": {},
     "output_type": "execute_result"
    },
    {
     "data": {
      "image/png": "[encoded data removed]",
      "text/plain": [
       "<Figure size 432x288 with 1 Axes>"
      ]
     },
     "metadata": {
      "needs_background": "light"
     },
     "output_type": "display_data"
    }
   ],
   "source": [
    "gii[gii['ratio']>.5][\"gii\"].hist()"
   ]
  },
  {
   "cell_type": "code",
   "execution_count": 31,
   "metadata": {},
   "outputs": [
    {
     "data": {
      "text/plain": [
       "<AxesSubplot:>"
      ]
     },
     "execution_count": 31,
     "metadata": {},
     "output_type": "execute_result"
    },
    {
     "data": {
      "image/png": "[encoded data removed]",
      "text/plain": [
       "<Figure size 432x288 with 1 Axes>"
      ]
     },
     "metadata": {
      "needs_background": "light"
     },
     "output_type": "display_data"
    }
   ],
   "source": [
    "gii[gii['ratio']<.5][\"gii\"].hist()"
   ]
  },
  {
   "cell_type": "code",
   "execution_count": 32,
   "metadata": {},
   "outputs": [],
   "source": [
    "# it almost looks like having more women smoke just increases the mean on the distribution (ie. women smoking doesn't seem to change male smoking??)\n",
    "# HYPOTHESIS: more progressive countries (where women smoking is more accepted) just see an increase in women smoking\n",
    "    # -- could we test this by taking a low ratio countries and simulate adding more women smokers?"
   ]
  },
  {
   "cell_type": "code",
   "execution_count": 33,
   "metadata": {},
   "outputs": [],
   "source": [
    "# gender results so far:\n",
    "# men smoke much more than women in the us (from Jun)\n",
    "# COPD has much higher mortality in men than women (from Chloris)\n",
    "\n",
    "# tentative results so far (could use some statistical tests or not):\n",
    "# bimodal distribution of female/male smoker ratio\n",
    "# the two clusters for the two modes in the distribution seem to be in different geographic locations (Europe has high ratios, Africa and West Pacific have low ratios)\n",
    "# likewise richer countries (higher per capita gdp) seem to have higher ratios\n",
    "# when the female/male smoker ratio is high, it doesn't seem to mean that less men are smoking, only that more women are smoking\n",
    "# confirmed by UN gender inequality index, looks like high ratio countries have low inequality and vice versa \n",
    "\n",
    "# maybe we could try looking at change over time? -- as gdp/gii increased, did women smoking also increase? (when controlling for global decrease in smoking)\n",
    "\n",
    "# we can focus on the narrative that \"cultural acceptance\" of women smoking leads to high rates of women smoking while leaving men unaffected\n",
    "    # be very sure to clarify that this is NOT an argument against women's rights/equality \n",
    "    # maybe talk about how this could be a very serious problem for developing countries that are likely to decrease gender inequality (citation?)\n",
    "        # -> could lead to more women smoking which would require forward action\n"
   ]
  },
  {
   "cell_type": "code",
   "execution_count": null,
   "metadata": {},
   "outputs": [],
   "source": []
  },
  {
   "cell_type": "code",
   "execution_count": null,
   "metadata": {},
   "outputs": [],
   "source": []
  }
 ],
 "metadata": {
  "kernelspec": {
   "display_name": "Python 3",
   "language": "python",
   "name": "python3"
  },
  "language_info": {
   "codemirror_mode": {
    "name": "ipython",
    "version": 3
   },
   "file_extension": ".py",
   "mimetype": "text/x-python",
   "name": "python",
   "nbconvert_exporter": "python",
   "pygments_lexer": "ipython3",
   "version": "3.8.5"
  }
 },
 "nbformat": 4,
 "nbformat_minor": 4
}
