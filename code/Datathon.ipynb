{
 "cells": [
  {
   "cell_type": "code",
   "execution_count": 103,
   "metadata": {},
   "outputs": [],
   "source": [
    "import numpy as np\n",
    "import pandas as pd\n",
    "import csv\n",
    "\n",
    "usdisease='us_chronic_resp_disease.csv'\n",
    "stopsmoke = 'stop_smoking.csv'\n",
    "ustobacouse = 'tobacco_use_us.csv'\n",
    "data = pd.read_csv(ustobacouse)\n",
    "\n",
    "#print(data.head())\n"
   ]
  },
  {
   "cell_type": "code",
   "execution_count": 104,
   "metadata": {},
   "outputs": [
    {
     "data": {
      "text/html": [
       "<div>\n",
       "<style scoped>\n",
       "    .dataframe tbody tr th:only-of-type {\n",
       "        vertical-align: middle;\n",
       "    }\n",
       "\n",
       "    .dataframe tbody tr th {\n",
       "        vertical-align: top;\n",
       "    }\n",
       "\n",
       "    .dataframe thead th {\n",
       "        text-align: right;\n",
       "    }\n",
       "</style>\n",
       "<table border=\"1\" class=\"dataframe\">\n",
       "  <thead>\n",
       "    <tr style=\"text-align: right;\">\n",
       "      <th></th>\n",
       "      <th>Year</th>\n",
       "      <th>Data_value</th>\n",
       "      <th>Confidence_limit_Low</th>\n",
       "      <th>Confidence_limit_High</th>\n",
       "      <th>LocationID</th>\n",
       "    </tr>\n",
       "  </thead>\n",
       "  <tbody>\n",
       "    <tr>\n",
       "      <td>count</td>\n",
       "      <td>111048.000000</td>\n",
       "      <td>89434.000000</td>\n",
       "      <td>89266.000000</td>\n",
       "      <td>89266.000000</td>\n",
       "      <td>111048.000000</td>\n",
       "    </tr>\n",
       "    <tr>\n",
       "      <td>mean</td>\n",
       "      <td>2015.913884</td>\n",
       "      <td>37.930664</td>\n",
       "      <td>34.806323</td>\n",
       "      <td>41.062011</td>\n",
       "      <td>30.655104</td>\n",
       "    </tr>\n",
       "    <tr>\n",
       "      <td>std</td>\n",
       "      <td>2.725179</td>\n",
       "      <td>33.246509</td>\n",
       "      <td>32.960819</td>\n",
       "      <td>33.736714</td>\n",
       "      <td>17.489382</td>\n",
       "    </tr>\n",
       "    <tr>\n",
       "      <td>min</td>\n",
       "      <td>2011.000000</td>\n",
       "      <td>0.140000</td>\n",
       "      <td>0.060000</td>\n",
       "      <td>0.220000</td>\n",
       "      <td>1.000000</td>\n",
       "    </tr>\n",
       "    <tr>\n",
       "      <td>25%</td>\n",
       "      <td>2014.000000</td>\n",
       "      <td>8.610000</td>\n",
       "      <td>6.100000</td>\n",
       "      <td>11.030000</td>\n",
       "      <td>17.000000</td>\n",
       "    </tr>\n",
       "    <tr>\n",
       "      <td>50%</td>\n",
       "      <td>2016.000000</td>\n",
       "      <td>23.900000</td>\n",
       "      <td>19.790000</td>\n",
       "      <td>27.740000</td>\n",
       "      <td>30.000000</td>\n",
       "    </tr>\n",
       "    <tr>\n",
       "      <td>75%</td>\n",
       "      <td>2018.000000</td>\n",
       "      <td>69.940000</td>\n",
       "      <td>64.470000</td>\n",
       "      <td>75.190000</td>\n",
       "      <td>44.000000</td>\n",
       "    </tr>\n",
       "    <tr>\n",
       "      <td>max</td>\n",
       "      <td>2020.000000</td>\n",
       "      <td>100.000000</td>\n",
       "      <td>100.000000</td>\n",
       "      <td>100.000000</td>\n",
       "      <td>99.000000</td>\n",
       "    </tr>\n",
       "  </tbody>\n",
       "</table>\n",
       "</div>"
      ],
      "text/plain": [
       "                Year    Data_value  Confidence_limit_Low  \\\n",
       "count  111048.000000  89434.000000          89266.000000   \n",
       "mean     2015.913884     37.930664             34.806323   \n",
       "std         2.725179     33.246509             32.960819   \n",
       "min      2011.000000      0.140000              0.060000   \n",
       "25%      2014.000000      8.610000              6.100000   \n",
       "50%      2016.000000     23.900000             19.790000   \n",
       "75%      2018.000000     69.940000             64.470000   \n",
       "max      2020.000000    100.000000            100.000000   \n",
       "\n",
       "       Confidence_limit_High     LocationID  \n",
       "count           89266.000000  111048.000000  \n",
       "mean               41.062011      30.655104  \n",
       "std                33.736714      17.489382  \n",
       "min                 0.220000       1.000000  \n",
       "25%                11.030000      17.000000  \n",
       "50%                27.740000      30.000000  \n",
       "75%                75.190000      44.000000  \n",
       "max               100.000000      99.000000  "
      ]
     },
     "execution_count": 104,
     "metadata": {},
     "output_type": "execute_result"
    }
   ],
   "source": [
    "data.describe()"
   ]
  },
  {
   "cell_type": "code",
   "execution_count": 105,
   "metadata": {},
   "outputs": [],
   "source": [
    "#data.shape"
   ]
  },
  {
   "cell_type": "code",
   "execution_count": 106,
   "metadata": {},
   "outputs": [
    {
     "data": {
      "text/plain": [
       "Index(['Year', 'Locationabbr', 'Locationdesc', 'Topic', 'Question', 'Response',\n",
       "       'Break_Out', 'Break_Out_Category', 'Sample_Size', 'Data_value',\n",
       "       'Confidence_limit_Low', 'Confidence_limit_High', 'Data_value_unit',\n",
       "       'Data_value_type', 'Data_Value_Footnote', 'LocationID', 'BreakoutID',\n",
       "       'BreakOutCategoryID', 'QuestionID', 'ResponseID', 'GeoLocation'],\n",
       "      dtype='object')"
      ]
     },
     "execution_count": 106,
     "metadata": {},
     "output_type": "execute_result"
    }
   ],
   "source": [
    "data.columns"
   ]
  },
  {
   "cell_type": "code",
   "execution_count": 107,
   "metadata": {},
   "outputs": [
    {
     "data": {
      "text/html": [
       "<div>\n",
       "<style scoped>\n",
       "    .dataframe tbody tr th:only-of-type {\n",
       "        vertical-align: middle;\n",
       "    }\n",
       "\n",
       "    .dataframe tbody tr th {\n",
       "        vertical-align: top;\n",
       "    }\n",
       "\n",
       "    .dataframe thead th {\n",
       "        text-align: right;\n",
       "    }\n",
       "</style>\n",
       "<table border=\"1\" class=\"dataframe\">\n",
       "  <thead>\n",
       "    <tr style=\"text-align: right;\">\n",
       "      <th></th>\n",
       "      <th>Year</th>\n",
       "      <th>Locationabbr</th>\n",
       "      <th>Locationdesc</th>\n",
       "      <th>Topic</th>\n",
       "      <th>Question</th>\n",
       "      <th>Response</th>\n",
       "      <th>Break_Out</th>\n",
       "      <th>Break_Out_Category</th>\n",
       "      <th>Sample_Size</th>\n",
       "      <th>Data_value</th>\n",
       "      <th>...</th>\n",
       "      <th>Confidence_limit_High</th>\n",
       "      <th>Data_value_unit</th>\n",
       "      <th>Data_value_type</th>\n",
       "      <th>Data_Value_Footnote</th>\n",
       "      <th>LocationID</th>\n",
       "      <th>BreakoutID</th>\n",
       "      <th>BreakOutCategoryID</th>\n",
       "      <th>QuestionID</th>\n",
       "      <th>ResponseID</th>\n",
       "      <th>GeoLocation</th>\n",
       "    </tr>\n",
       "  </thead>\n",
       "  <tbody>\n",
       "    <tr>\n",
       "      <td>68413</td>\n",
       "      <td>2016</td>\n",
       "      <td>NC</td>\n",
       "      <td>North Carolina</td>\n",
       "      <td>Smoker Status</td>\n",
       "      <td>Four Level Smoking Status (variable calculated...</td>\n",
       "      <td>Former smoker</td>\n",
       "      <td>College graduate</td>\n",
       "      <td>Education Attained</td>\n",
       "      <td>547</td>\n",
       "      <td>23.08</td>\n",
       "      <td>...</td>\n",
       "      <td>25.16</td>\n",
       "      <td>%</td>\n",
       "      <td>Crude Prevalence</td>\n",
       "      <td>NaN</td>\n",
       "      <td>37</td>\n",
       "      <td>EDUCA4</td>\n",
       "      <td>CAT5</td>\n",
       "      <td>_SMOKER3</td>\n",
       "      <td>RESP070</td>\n",
       "      <td>(35.466220975000454, -79.15925046299964)</td>\n",
       "    </tr>\n",
       "    <tr>\n",
       "      <td>106104</td>\n",
       "      <td>2020</td>\n",
       "      <td>NC</td>\n",
       "      <td>North Carolina</td>\n",
       "      <td>Smoker Status</td>\n",
       "      <td>Four Level Smoking Status (variable calculated...</td>\n",
       "      <td>Smoke everyday</td>\n",
       "      <td>American Indian or Alaskan Native, non-Hispanic</td>\n",
       "      <td>Race/Ethnicity</td>\n",
       "      <td>26</td>\n",
       "      <td>18.56</td>\n",
       "      <td>...</td>\n",
       "      <td>26.69</td>\n",
       "      <td>%</td>\n",
       "      <td>Crude Prevalence</td>\n",
       "      <td>NaN</td>\n",
       "      <td>37</td>\n",
       "      <td>RACE03</td>\n",
       "      <td>CAT4</td>\n",
       "      <td>_SMOKER3</td>\n",
       "      <td>RESP068</td>\n",
       "      <td>(35.466220975000454, -79.15925046299964)</td>\n",
       "    </tr>\n",
       "    <tr>\n",
       "      <td>20873</td>\n",
       "      <td>2011</td>\n",
       "      <td>ME</td>\n",
       "      <td>Maine</td>\n",
       "      <td>Smoker Status</td>\n",
       "      <td>Four Level Smoking Status (variable calculated...</td>\n",
       "      <td>Former smoker</td>\n",
       "      <td>H.S. or G.E.D.</td>\n",
       "      <td>Education Attained</td>\n",
       "      <td>1,573</td>\n",
       "      <td>32.80</td>\n",
       "      <td>...</td>\n",
       "      <td>34.50</td>\n",
       "      <td>%</td>\n",
       "      <td>Crude Prevalence</td>\n",
       "      <td>NaN</td>\n",
       "      <td>23</td>\n",
       "      <td>EDUCA2</td>\n",
       "      <td>CAT5</td>\n",
       "      <td>_SMOKER3</td>\n",
       "      <td>RESP070</td>\n",
       "      <td>(45.254228894001, -68.985031336)</td>\n",
       "    </tr>\n",
       "  </tbody>\n",
       "</table>\n",
       "<p>3 rows × 21 columns</p>\n",
       "</div>"
      ],
      "text/plain": [
       "        Year Locationabbr    Locationdesc          Topic  \\\n",
       "68413   2016           NC  North Carolina  Smoker Status   \n",
       "106104  2020           NC  North Carolina  Smoker Status   \n",
       "20873   2011           ME           Maine  Smoker Status   \n",
       "\n",
       "                                                 Question        Response  \\\n",
       "68413   Four Level Smoking Status (variable calculated...   Former smoker   \n",
       "106104  Four Level Smoking Status (variable calculated...  Smoke everyday   \n",
       "20873   Four Level Smoking Status (variable calculated...   Former smoker   \n",
       "\n",
       "                                              Break_Out  Break_Out_Category  \\\n",
       "68413                                  College graduate  Education Attained   \n",
       "106104  American Indian or Alaskan Native, non-Hispanic      Race/Ethnicity   \n",
       "20873                                    H.S. or G.E.D.  Education Attained   \n",
       "\n",
       "       Sample_Size  Data_value  ...  Confidence_limit_High  Data_value_unit  \\\n",
       "68413          547       23.08  ...                  25.16                %   \n",
       "106104          26       18.56  ...                  26.69                %   \n",
       "20873        1,573       32.80  ...                  34.50                %   \n",
       "\n",
       "         Data_value_type Data_Value_Footnote LocationID  BreakoutID  \\\n",
       "68413   Crude Prevalence                 NaN         37      EDUCA4   \n",
       "106104  Crude Prevalence                 NaN         37      RACE03   \n",
       "20873   Crude Prevalence                 NaN         23      EDUCA2   \n",
       "\n",
       "       BreakOutCategoryID QuestionID ResponseID  \\\n",
       "68413                CAT5   _SMOKER3    RESP070   \n",
       "106104               CAT4   _SMOKER3    RESP068   \n",
       "20873                CAT5   _SMOKER3    RESP070   \n",
       "\n",
       "                                     GeoLocation  \n",
       "68413   (35.466220975000454, -79.15925046299964)  \n",
       "106104  (35.466220975000454, -79.15925046299964)  \n",
       "20873           (45.254228894001, -68.985031336)  \n",
       "\n",
       "[3 rows x 21 columns]"
      ]
     },
     "execution_count": 107,
     "metadata": {},
     "output_type": "execute_result"
    }
   ],
   "source": [
    "data.sample(n=3)"
   ]
  },
  {
   "cell_type": "code",
   "execution_count": 108,
   "metadata": {},
   "outputs": [
    {
     "data": {
      "text/plain": [
       "array(['KS', 'AL', 'AK', 'AZ', 'AR', 'CT', 'DE', 'DC', 'FL', 'GA', 'ID',\n",
       "       'IL', 'OR', 'ME', 'MD', 'MI', 'MN', 'MT', 'NE', 'NV', 'NM', 'NY',\n",
       "       'NC', 'ND', 'OH', 'OK', 'VA', 'WV', 'WI', 'WY', 'GU', 'PR', 'US',\n",
       "       'RI', 'SC', 'SD', 'TN', 'TX', 'UT', 'VT', 'MA', 'CO', 'CA', 'HI',\n",
       "       'IN', 'IA', 'KY', 'LA', 'MS', 'MO', 'NH', 'PA', 'WA', 'UW', 'NJ',\n",
       "       'VI'], dtype=object)"
      ]
     },
     "execution_count": 108,
     "metadata": {},
     "output_type": "execute_result"
    }
   ],
   "source": [
    "data['Break_Out'].unique()\n",
    "data['Locationabbr'].unique()"
   ]
  },
  {
   "cell_type": "code",
   "execution_count": 109,
   "metadata": {},
   "outputs": [],
   "source": [
    "Male = data.loc[data['Break_Out']=='Male']"
   ]
  },
  {
   "cell_type": "code",
   "execution_count": 110,
   "metadata": {},
   "outputs": [
    {
     "data": {
      "text/plain": [
       "(4452, 2)"
      ]
     },
     "execution_count": 110,
     "metadata": {},
     "output_type": "execute_result"
    }
   ],
   "source": [
    "t = Male[['Locationabbr','Data_value']]\n",
    "t.shape"
   ]
  },
  {
   "cell_type": "code",
   "execution_count": 111,
   "metadata": {},
   "outputs": [],
   "source": [
    "#Male.iloc[-18:-1]"
   ]
  },
  {
   "cell_type": "code",
   "execution_count": 112,
   "metadata": {},
   "outputs": [
    {
     "data": {
      "text/plain": [
       "39"
      ]
     },
     "execution_count": 112,
     "metadata": {},
     "output_type": "execute_result"
    }
   ],
   "source": [
    "t.isnull().sum().sum()\n"
   ]
  },
  {
   "cell_type": "code",
   "execution_count": 113,
   "metadata": {},
   "outputs": [
    {
     "data": {
      "text/html": [
       "<div>\n",
       "<style scoped>\n",
       "    .dataframe tbody tr th:only-of-type {\n",
       "        vertical-align: middle;\n",
       "    }\n",
       "\n",
       "    .dataframe tbody tr th {\n",
       "        vertical-align: top;\n",
       "    }\n",
       "\n",
       "    .dataframe thead th {\n",
       "        text-align: right;\n",
       "    }\n",
       "</style>\n",
       "<table border=\"1\" class=\"dataframe\">\n",
       "  <thead>\n",
       "    <tr style=\"text-align: right;\">\n",
       "      <th></th>\n",
       "      <th>Data_value</th>\n",
       "    </tr>\n",
       "    <tr>\n",
       "      <th>Topic</th>\n",
       "      <th></th>\n",
       "    </tr>\n",
       "  </thead>\n",
       "  <tbody>\n",
       "    <tr>\n",
       "      <td>Current Smoker Status</td>\n",
       "      <td>50.002642</td>\n",
       "    </tr>\n",
       "    <tr>\n",
       "      <td>Smokeless Tobacco</td>\n",
       "      <td>34.334433</td>\n",
       "    </tr>\n",
       "    <tr>\n",
       "      <td>Smoker Status</td>\n",
       "      <td>25.012685</td>\n",
       "    </tr>\n",
       "  </tbody>\n",
       "</table>\n",
       "</div>"
      ],
      "text/plain": [
       "                       Data_value\n",
       "Topic                            \n",
       "Current Smoker Status   50.002642\n",
       "Smokeless Tobacco       34.334433\n",
       "Smoker Status           25.012685"
      ]
     },
     "execution_count": 113,
     "metadata": {},
     "output_type": "execute_result"
    }
   ],
   "source": [
    "Male.groupby(\"Topic\").agg({'Data_value':'mean'})"
   ]
  },
  {
   "cell_type": "code",
   "execution_count": 114,
   "metadata": {},
   "outputs": [
    {
     "data": {
      "text/html": [
       "<div>\n",
       "<style scoped>\n",
       "    .dataframe tbody tr th:only-of-type {\n",
       "        vertical-align: middle;\n",
       "    }\n",
       "\n",
       "    .dataframe tbody tr th {\n",
       "        vertical-align: top;\n",
       "    }\n",
       "\n",
       "    .dataframe thead th {\n",
       "        text-align: right;\n",
       "    }\n",
       "</style>\n",
       "<table border=\"1\" class=\"dataframe\">\n",
       "  <thead>\n",
       "    <tr style=\"text-align: right;\">\n",
       "      <th></th>\n",
       "      <th>Data_value</th>\n",
       "    </tr>\n",
       "    <tr>\n",
       "      <th>Question</th>\n",
       "      <th></th>\n",
       "    </tr>\n",
       "  </thead>\n",
       "  <tbody>\n",
       "    <tr>\n",
       "      <td>Adults who are current smokers (variable calculated from one or more BRFSS questions)</td>\n",
       "      <td>50.002642</td>\n",
       "    </tr>\n",
       "    <tr>\n",
       "      <td>Do you currently use chewing tobacco, snuff, or snus?</td>\n",
       "      <td>34.334433</td>\n",
       "    </tr>\n",
       "    <tr>\n",
       "      <td>Four Level Smoking Status (variable calculated from one or more BRFSS questions)</td>\n",
       "      <td>25.012685</td>\n",
       "    </tr>\n",
       "  </tbody>\n",
       "</table>\n",
       "</div>"
      ],
      "text/plain": [
       "                                                    Data_value\n",
       "Question                                                      \n",
       "Adults who are current smokers (variable calcul...   50.002642\n",
       "Do you currently use chewing tobacco, snuff, or...   34.334433\n",
       "Four Level Smoking Status (variable calculated ...   25.012685"
      ]
     },
     "execution_count": 114,
     "metadata": {},
     "output_type": "execute_result"
    }
   ],
   "source": [
    "Male.groupby(\"Question\").agg({'Data_value':'mean'})"
   ]
  },
  {
   "cell_type": "code",
   "execution_count": 115,
   "metadata": {},
   "outputs": [
    {
     "data": {
      "text/html": [
       "<div>\n",
       "<style scoped>\n",
       "    .dataframe tbody tr th:only-of-type {\n",
       "        vertical-align: middle;\n",
       "    }\n",
       "\n",
       "    .dataframe tbody tr th {\n",
       "        vertical-align: top;\n",
       "    }\n",
       "\n",
       "    .dataframe thead th {\n",
       "        text-align: right;\n",
       "    }\n",
       "</style>\n",
       "<table border=\"1\" class=\"dataframe\">\n",
       "  <thead>\n",
       "    <tr style=\"text-align: right;\">\n",
       "      <th></th>\n",
       "      <th>Data_value</th>\n",
       "    </tr>\n",
       "    <tr>\n",
       "      <th>Response</th>\n",
       "      <th></th>\n",
       "    </tr>\n",
       "  </thead>\n",
       "  <tbody>\n",
       "    <tr>\n",
       "      <td>Every day</td>\n",
       "      <td>4.621775</td>\n",
       "    </tr>\n",
       "    <tr>\n",
       "      <td>Former smoker</td>\n",
       "      <td>28.178604</td>\n",
       "    </tr>\n",
       "    <tr>\n",
       "      <td>Never smoked</td>\n",
       "      <td>51.856528</td>\n",
       "    </tr>\n",
       "    <tr>\n",
       "      <td>No</td>\n",
       "      <td>80.031792</td>\n",
       "    </tr>\n",
       "    <tr>\n",
       "      <td>Not at all</td>\n",
       "      <td>92.405637</td>\n",
       "    </tr>\n",
       "    <tr>\n",
       "      <td>Smoke everyday</td>\n",
       "      <td>13.958849</td>\n",
       "    </tr>\n",
       "    <tr>\n",
       "      <td>Smoke some days</td>\n",
       "      <td>6.020926</td>\n",
       "    </tr>\n",
       "    <tr>\n",
       "      <td>Some days</td>\n",
       "      <td>3.268268</td>\n",
       "    </tr>\n",
       "    <tr>\n",
       "      <td>Yes</td>\n",
       "      <td>19.973491</td>\n",
       "    </tr>\n",
       "  </tbody>\n",
       "</table>\n",
       "</div>"
      ],
      "text/plain": [
       "                 Data_value\n",
       "Response                   \n",
       "Every day          4.621775\n",
       "Former smoker     28.178604\n",
       "Never smoked      51.856528\n",
       "No                80.031792\n",
       "Not at all        92.405637\n",
       "Smoke everyday    13.958849\n",
       "Smoke some days    6.020926\n",
       "Some days          3.268268\n",
       "Yes               19.973491"
      ]
     },
     "execution_count": 115,
     "metadata": {},
     "output_type": "execute_result"
    }
   ],
   "source": [
    "Male.groupby(\"Response\").agg({'Data_value':'mean'})"
   ]
  },
  {
   "cell_type": "code",
   "execution_count": 225,
   "metadata": {},
   "outputs": [
    {
     "data": {
      "text/plain": [
       "Break_Out_Category\n",
       "Age Group                      [25-34, 65+, 35-44, 45-54, 18-24, 55-64]\n",
       "Education Attained    [H.S. or G.E.D., Less than H.S., College gradu...\n",
       "Gender                                                   [Female, Male]\n",
       "Household Income      [$35,000-$49,999, $50,000+, Less than $15,000,...\n",
       "Overall                                                       [Overall]\n",
       "Race/Ethnicity        [Black, non-Hispanic, Hispanic, White, non-His...\n",
       "Name: Break_Out, dtype: object"
      ]
     },
     "execution_count": 225,
     "metadata": {},
     "output_type": "execute_result"
    }
   ],
   "source": [
    "#list(Male.groupby('Question')['Response'].unique())\n",
    "data.groupby('Break_Out_Category')['Break_Out'].unique()"
   ]
  },
  {
   "cell_type": "code",
   "execution_count": 117,
   "metadata": {},
   "outputs": [],
   "source": [
    "oh = data.loc[data['Locationabbr']=='PR']"
   ]
  },
  {
   "cell_type": "code",
   "execution_count": 118,
   "metadata": {},
   "outputs": [],
   "source": [
    "oh = oh.loc[oh['Year']==2019]"
   ]
  },
  {
   "cell_type": "code",
   "execution_count": 119,
   "metadata": {},
   "outputs": [
    {
     "data": {
      "text/html": [
       "<div>\n",
       "<style scoped>\n",
       "    .dataframe tbody tr th:only-of-type {\n",
       "        vertical-align: middle;\n",
       "    }\n",
       "\n",
       "    .dataframe tbody tr th {\n",
       "        vertical-align: top;\n",
       "    }\n",
       "\n",
       "    .dataframe thead th {\n",
       "        text-align: right;\n",
       "    }\n",
       "</style>\n",
       "<table border=\"1\" class=\"dataframe\">\n",
       "  <thead>\n",
       "    <tr style=\"text-align: right;\">\n",
       "      <th></th>\n",
       "      <th>Year</th>\n",
       "      <th>Locationabbr</th>\n",
       "      <th>Locationdesc</th>\n",
       "      <th>Topic</th>\n",
       "      <th>Question</th>\n",
       "      <th>Response</th>\n",
       "      <th>Break_Out</th>\n",
       "      <th>Break_Out_Category</th>\n",
       "      <th>Sample_Size</th>\n",
       "      <th>Data_value</th>\n",
       "      <th>...</th>\n",
       "      <th>Confidence_limit_High</th>\n",
       "      <th>Data_value_unit</th>\n",
       "      <th>Data_value_type</th>\n",
       "      <th>Data_Value_Footnote</th>\n",
       "      <th>LocationID</th>\n",
       "      <th>BreakoutID</th>\n",
       "      <th>BreakOutCategoryID</th>\n",
       "      <th>QuestionID</th>\n",
       "      <th>ResponseID</th>\n",
       "      <th>GeoLocation</th>\n",
       "    </tr>\n",
       "  </thead>\n",
       "  <tbody>\n",
       "    <tr>\n",
       "      <td>12016</td>\n",
       "      <td>2019</td>\n",
       "      <td>PR</td>\n",
       "      <td>Puerto Rico</td>\n",
       "      <td>Current Smoker Status</td>\n",
       "      <td>Adults who are current smokers (variable calcu...</td>\n",
       "      <td>Yes</td>\n",
       "      <td>Overall</td>\n",
       "      <td>Overall</td>\n",
       "      <td>499</td>\n",
       "      <td>9.62</td>\n",
       "      <td>...</td>\n",
       "      <td>10.64</td>\n",
       "      <td>%</td>\n",
       "      <td>Crude Prevalence</td>\n",
       "      <td>NaN</td>\n",
       "      <td>72</td>\n",
       "      <td>BO1</td>\n",
       "      <td>CAT1</td>\n",
       "      <td>_RFSMOK3</td>\n",
       "      <td>RESP046</td>\n",
       "      <td>(18.220833, -66.590149)</td>\n",
       "    </tr>\n",
       "    <tr>\n",
       "      <td>12174</td>\n",
       "      <td>2019</td>\n",
       "      <td>PR</td>\n",
       "      <td>Puerto Rico</td>\n",
       "      <td>Current Smoker Status</td>\n",
       "      <td>Adults who are current smokers (variable calcu...</td>\n",
       "      <td>No</td>\n",
       "      <td>Overall</td>\n",
       "      <td>Overall</td>\n",
       "      <td>5,439</td>\n",
       "      <td>90.38</td>\n",
       "      <td>...</td>\n",
       "      <td>91.40</td>\n",
       "      <td>%</td>\n",
       "      <td>Crude Prevalence</td>\n",
       "      <td>NaN</td>\n",
       "      <td>72</td>\n",
       "      <td>BO1</td>\n",
       "      <td>CAT1</td>\n",
       "      <td>_RFSMOK3</td>\n",
       "      <td>RESP054</td>\n",
       "      <td>(18.220833, -66.590149)</td>\n",
       "    </tr>\n",
       "  </tbody>\n",
       "</table>\n",
       "<p>2 rows × 21 columns</p>\n",
       "</div>"
      ],
      "text/plain": [
       "       Year Locationabbr Locationdesc                  Topic  \\\n",
       "12016  2019           PR  Puerto Rico  Current Smoker Status   \n",
       "12174  2019           PR  Puerto Rico  Current Smoker Status   \n",
       "\n",
       "                                                Question Response Break_Out  \\\n",
       "12016  Adults who are current smokers (variable calcu...      Yes   Overall   \n",
       "12174  Adults who are current smokers (variable calcu...       No   Overall   \n",
       "\n",
       "      Break_Out_Category Sample_Size  Data_value  ...  Confidence_limit_High  \\\n",
       "12016            Overall         499        9.62  ...                  10.64   \n",
       "12174            Overall       5,439       90.38  ...                  91.40   \n",
       "\n",
       "       Data_value_unit   Data_value_type Data_Value_Footnote LocationID  \\\n",
       "12016                %  Crude Prevalence                 NaN         72   \n",
       "12174                %  Crude Prevalence                 NaN         72   \n",
       "\n",
       "       BreakoutID BreakOutCategoryID QuestionID ResponseID  \\\n",
       "12016         BO1               CAT1   _RFSMOK3    RESP046   \n",
       "12174         BO1               CAT1   _RFSMOK3    RESP054   \n",
       "\n",
       "                   GeoLocation  \n",
       "12016  (18.220833, -66.590149)  \n",
       "12174  (18.220833, -66.590149)  \n",
       "\n",
       "[2 rows x 21 columns]"
      ]
     },
     "execution_count": 119,
     "metadata": {},
     "output_type": "execute_result"
    }
   ],
   "source": [
    "oh = oh.loc[oh['Topic']=='Current Smoker Status']\n",
    "oh.loc[oh['Break_Out_Category']=='Overall']"
   ]
  },
  {
   "cell_type": "code",
   "execution_count": 136,
   "metadata": {},
   "outputs": [],
   "source": [
    "NoRace=data.loc[data['Break_Out_Category']!='Race/Ethnicity']\n",
    "data_drop = NoRace.drop(axis=1,columns=['Confidence_limit_Low','Confidence_limit_High','Data_Value_Footnote','Data_value_unit','Data_value_type','LocationID','BreakoutID','BreakOutCategoryID','QuestionID','ResponseID','GeoLocation'])\n",
    "\n",
    "#data_drop[data_drop.isnull().T.any()]\n"
   ]
  },
  {
   "cell_type": "code",
   "execution_count": 126,
   "metadata": {},
   "outputs": [
    {
     "data": {
      "text/plain": [
       "(80297, 21)"
      ]
     },
     "execution_count": 126,
     "metadata": {},
     "output_type": "execute_result"
    }
   ],
   "source": [
    "NoRace.shape"
   ]
  },
  {
   "cell_type": "code",
   "execution_count": 137,
   "metadata": {},
   "outputs": [],
   "source": [
    "NoRaceYear = NoRace.loc[data['Year']==2019]\n",
    "NoRaceYear_drop = NoRaceYear.drop(axis=1,columns=['Confidence_limit_Low','Confidence_limit_High','Data_Value_Footnote','Data_value_unit','Data_value_type','LocationID','BreakoutID','BreakOutCategoryID','QuestionID','ResponseID','GeoLocation'])\n",
    "\n",
    "#NoRaceYear_drop[NoRaceYear_drop.isnull().T.any()]"
   ]
  },
  {
   "cell_type": "code",
   "execution_count": 138,
   "metadata": {},
   "outputs": [],
   "source": [
    "#NoRaceYear.shape"
   ]
  },
  {
   "cell_type": "markdown",
   "metadata": {},
   "source": [
    "## 2019 数据"
   ]
  },
  {
   "cell_type": "code",
   "execution_count": 161,
   "metadata": {},
   "outputs": [],
   "source": [
    "import numpy as np\n",
    "import pandas as pd\n",
    "import csv\n",
    "\n",
    "usdisease='us_chronic_resp_disease.csv'\n",
    "stopsmoke = 'stop_smoking.csv'\n",
    "ustobacouse = 'tobacco_use_us.csv'\n",
    "data = pd.read_csv(ustobacouse)\n",
    "\n",
    "NoRace=data.loc[data['Break_Out_Category']!='Race/Ethnicity']\n",
    "NoRaceYear = NoRace.loc[NoRace['Year']==2019]\n",
    "# Delete NaN\n",
    "df = NoRaceYear.dropna(subset=['Data_value'])"
   ]
  },
  {
   "cell_type": "markdown",
   "metadata": {},
   "source": [
    "### Question 1: Percentage of current non-smokers\n",
    "\n",
    "1. Age\n",
    "\n",
    "    Data_value ~ Age Group"
   ]
  },
  {
   "cell_type": "code",
   "execution_count": 334,
   "metadata": {},
   "outputs": [
    {
     "name": "stdout",
     "output_type": "stream",
     "text": [
      "(55, 21)\n",
      "(55, 21)\n"
     ]
    }
   ],
   "source": [
    "# Question 1\n",
    "dfQ1 = data.loc[data['Topic']=='Current Smoker Status']\n",
    "dfQ1 = dfQ1.loc[dfQ1['Response']=='No']\n",
    "# Age Group\n",
    "df_age = dfQ1.loc[dfQ1['Break_Out_Category']=='Overall']\n",
    "# 2019\n",
    "df_age = df_age.loc[df_age['Year']==2018]\n",
    "print(df_age.shape)\n",
    "# Delete NaN\n",
    "df = df_age.dropna(subset=['Data_value'])\n",
    "print(df.shape)"
   ]
  },
  {
   "cell_type": "code",
   "execution_count": 335,
   "metadata": {},
   "outputs": [],
   "source": [
    "def q1(n):\n",
    "    return(100-n)\n",
    "\n",
    "df['Data_value']=df['Data_value'].apply(q1)\n",
    "df = df.loc[:,['Break_Out','Data_value']]\n",
    "\n",
    "df.to_csv(\"isCurrent2018All.csv\",index=False)"
   ]
  },
  {
   "cell_type": "markdown",
   "metadata": {},
   "source": [
    "2. Gender\n"
   ]
  },
  {
   "cell_type": "code",
   "execution_count": 203,
   "metadata": {},
   "outputs": [
    {
     "name": "stdout",
     "output_type": "stream",
     "text": [
      "(106, 21)\n",
      "(106, 21)\n"
     ]
    }
   ],
   "source": [
    "# Question 1\n",
    "dfQ1 = data.loc[data['Topic']=='Current Smoker Status']\n",
    "dfQ1 = dfQ1.loc[dfQ1['Response']=='No']\n",
    "# Age Group\n",
    "df_age = dfQ1.loc[dfQ1['Break_Out_Category']=='Gender']\n",
    "# 2019\n",
    "df_age = df_age.loc[df_age['Year']==2018]\n",
    "print(df_age.shape)\n",
    "# Delete NaN\n",
    "df = df_age.dropna(subset=['Data_value'])\n",
    "print(df.shape)\n",
    "\n"
   ]
  },
  {
   "cell_type": "code",
   "execution_count": 204,
   "metadata": {},
   "outputs": [],
   "source": [
    "def q1(n):\n",
    "    return(100-n)\n",
    "\n",
    "df['Data_value']=df['Data_value'].apply(q1)\n",
    "df = df.loc[:,['Break_Out','Data_value']]\n",
    "\n",
    "df.to_csv(\"isCurrent2018Gender.csv\",index=False)"
   ]
  },
  {
   "cell_type": "markdown",
   "metadata": {},
   "source": [
    "3. Income"
   ]
  },
  {
   "cell_type": "code",
   "execution_count": 232,
   "metadata": {},
   "outputs": [
    {
     "name": "stdout",
     "output_type": "stream",
     "text": [
      "(212, 21)\n",
      "(212, 21)\n"
     ]
    }
   ],
   "source": [
    "# Question 1\n",
    "dfQ1 = data.loc[data['Topic']=='Current Smoker Status']\n",
    "dfQ1 = dfQ1.loc[dfQ1['Response']=='No']\n",
    "# Age Group\n",
    "df_age = dfQ1.loc[dfQ1['Break_Out_Category']=='Education Attained']\n",
    "# 2019\n",
    "df_age = df_age.loc[df_age['Year']==2018]\n",
    "print(df_age.shape)\n",
    "# Delete NaN\n",
    "df = df_age.dropna(subset=['Data_value'])\n",
    "print(df.shape)"
   ]
  },
  {
   "cell_type": "code",
   "execution_count": 233,
   "metadata": {},
   "outputs": [],
   "source": [
    "def q1(n):\n",
    "    return(100-n)\n",
    "\n",
    "df['Data_value']=df['Data_value'].apply(q1)\n",
    "df = df.loc[:,['Break_Out','Data_value']]\n",
    "\n",
    "df.to_csv(\"isCurrent2018Edu.csv\",index=False)"
   ]
  },
  {
   "cell_type": "code",
   "execution_count": 269,
   "metadata": {},
   "outputs": [
    {
     "name": "stdout",
     "output_type": "stream",
     "text": [
      "(110, 21)\n",
      "(110, 21)\n"
     ]
    }
   ],
   "source": [
    "# Question 3\n",
    "dfQ3 = data.loc[data['Topic']=='Smoker Status']\n",
    "dfQ3 = dfQ3.loc[dfQ3['Response']=='Smoke everyday']\n",
    "# Age Group\n",
    "dfAll = dfQ3.loc[dfQ3['Break_Out_Category']=='Overall']\n",
    "# 2019\n",
    "dfAll = dfAll.loc[dfAll['Year'].isin([2020,2017])]\n",
    "print(dfAll.shape)\n",
    "# Delete NaN\n",
    "df = dfAll.dropna(subset=['Data_value'])\n",
    "print(df.shape)"
   ]
  },
  {
   "cell_type": "code",
   "execution_count": 270,
   "metadata": {},
   "outputs": [],
   "source": [
    "df = df.loc[:,['Year','Data_value']]\n",
    "\n",
    "df.to_csv(\"SmokeEverydayon1720.csv\",index=False)"
   ]
  },
  {
   "cell_type": "code",
   "execution_count": 251,
   "metadata": {},
   "outputs": [
    {
     "data": {
      "text/plain": [
       "(109, 21)"
      ]
     },
     "execution_count": 251,
     "metadata": {},
     "output_type": "execute_result"
    }
   ],
   "source": [
    "df_age.shape"
   ]
  },
  {
   "cell_type": "code",
   "execution_count": 252,
   "metadata": {},
   "outputs": [
    {
     "data": {
      "text/plain": [
       "array([2019, 2020], dtype=int64)"
      ]
     },
     "execution_count": 252,
     "metadata": {},
     "output_type": "execute_result"
    }
   ],
   "source": [
    "df_age['Year'].unique()"
   ]
  },
  {
   "cell_type": "code",
   "execution_count": 305,
   "metadata": {},
   "outputs": [
    {
     "name": "stdout",
     "output_type": "stream",
     "text": [
      "(1380, 21)\n",
      "(1243, 21)\n"
     ]
    }
   ],
   "source": [
    "# Question 3\n",
    "dfQ3 = data.loc[data['Topic']=='Smoker Status']\n",
    "dfQ3 = dfQ3.loc[dfQ3['Response']=='Never smoked']\n",
    "# Age Group\n",
    "dfp = dfQ3.loc[dfQ3['Year']==2020]\n",
    "# 2019\n",
    "#dfAll = dfAll.loc[dfAll['Year'].isin([2020,2017])]\n",
    "print(dfp.shape)\n",
    "# Delete NaN\n",
    "df = dfp.dropna(subset=['Data_value'])\n",
    "#dfnan = dfp[np.isnan(dfp['Data_value'])==1]\n",
    "print(df.shape)\n",
    "#dfnan.loc[:,'Data_Value_Footnote'].unique()\n",
    "df = df.loc[df['Break_Out_Category']=='Education Attained']"
   ]
  },
  {
   "cell_type": "code",
   "execution_count": 306,
   "metadata": {},
   "outputs": [],
   "source": [
    "df = df.loc[:,['Break_Out','Data_value']]\n",
    "\n",
    "df.to_csv(\"NeverSmoke20Edu.csv\",index=False)"
   ]
  },
  {
   "cell_type": "code",
   "execution_count": 302,
   "metadata": {},
   "outputs": [
    {
     "data": {
      "text/html": [
       "<div>\n",
       "<style scoped>\n",
       "    .dataframe tbody tr th:only-of-type {\n",
       "        vertical-align: middle;\n",
       "    }\n",
       "\n",
       "    .dataframe tbody tr th {\n",
       "        vertical-align: top;\n",
       "    }\n",
       "\n",
       "    .dataframe thead th {\n",
       "        text-align: right;\n",
       "    }\n",
       "</style>\n",
       "<table border=\"1\" class=\"dataframe\">\n",
       "  <thead>\n",
       "    <tr style=\"text-align: right;\">\n",
       "      <th></th>\n",
       "      <th>Break_Out</th>\n",
       "      <th>Data_value</th>\n",
       "    </tr>\n",
       "  </thead>\n",
       "  <tbody>\n",
       "    <tr>\n",
       "      <td>98706</td>\n",
       "      <td>Female</td>\n",
       "      <td>59.32</td>\n",
       "    </tr>\n",
       "    <tr>\n",
       "      <td>98879</td>\n",
       "      <td>Female</td>\n",
       "      <td>63.80</td>\n",
       "    </tr>\n",
       "    <tr>\n",
       "      <td>99076</td>\n",
       "      <td>Male</td>\n",
       "      <td>48.93</td>\n",
       "    </tr>\n",
       "    <tr>\n",
       "      <td>99138</td>\n",
       "      <td>Male</td>\n",
       "      <td>54.98</td>\n",
       "    </tr>\n",
       "    <tr>\n",
       "      <td>99165</td>\n",
       "      <td>Male</td>\n",
       "      <td>53.43</td>\n",
       "    </tr>\n",
       "    <tr>\n",
       "      <td>...</td>\n",
       "      <td>...</td>\n",
       "      <td>...</td>\n",
       "    </tr>\n",
       "    <tr>\n",
       "      <td>110397</td>\n",
       "      <td>Male</td>\n",
       "      <td>50.44</td>\n",
       "    </tr>\n",
       "    <tr>\n",
       "      <td>110471</td>\n",
       "      <td>Male</td>\n",
       "      <td>52.48</td>\n",
       "    </tr>\n",
       "    <tr>\n",
       "      <td>110499</td>\n",
       "      <td>Female</td>\n",
       "      <td>59.11</td>\n",
       "    </tr>\n",
       "    <tr>\n",
       "      <td>110809</td>\n",
       "      <td>Male</td>\n",
       "      <td>60.51</td>\n",
       "    </tr>\n",
       "    <tr>\n",
       "      <td>110889</td>\n",
       "      <td>Female</td>\n",
       "      <td>82.36</td>\n",
       "    </tr>\n",
       "  </tbody>\n",
       "</table>\n",
       "<p>106 rows × 2 columns</p>\n",
       "</div>"
      ],
      "text/plain": [
       "       Break_Out  Data_value\n",
       "98706     Female       59.32\n",
       "98879     Female       63.80\n",
       "99076       Male       48.93\n",
       "99138       Male       54.98\n",
       "99165       Male       53.43\n",
       "...          ...         ...\n",
       "110397      Male       50.44\n",
       "110471      Male       52.48\n",
       "110499    Female       59.11\n",
       "110809      Male       60.51\n",
       "110889    Female       82.36\n",
       "\n",
       "[106 rows x 2 columns]"
      ]
     },
     "execution_count": 302,
     "metadata": {},
     "output_type": "execute_result"
    }
   ],
   "source": [
    "df"
   ]
  },
  {
   "cell_type": "code",
   "execution_count": 310,
   "metadata": {},
   "outputs": [
    {
     "name": "stdout",
     "output_type": "stream",
     "text": [
      "(55, 21)\n",
      "(55, 21)\n"
     ]
    }
   ],
   "source": [
    "# Question 1\n",
    "dfQ1 = data.loc[data['Topic']=='Current Smoker Status']\n",
    "dfQ1 = dfQ1.loc[dfQ1['Response']=='No']\n",
    "# Age Group\n",
    "df_age = dfQ1.loc[dfQ1['Break_Out_Category']=='Overall']\n",
    "# 2019\n",
    "df_age = df_age.loc[df_age['Year']==2020]\n",
    "print(df_age.shape)\n",
    "# Delete NaN\n",
    "df = df_age.dropna(subset=['Data_value'])\n",
    "print(df.shape)"
   ]
  },
  {
   "cell_type": "code",
   "execution_count": 311,
   "metadata": {},
   "outputs": [],
   "source": [
    "def q1(n):\n",
    "    return(100-n)\n",
    "\n",
    "df['Data_value']=df['Data_value'].apply(q1)\n",
    "df = df.loc[:,['Locationabbr','Data_value']]\n",
    "\n",
    "df.to_csv(\"Loc20smoke.csv\",index=False)"
   ]
  },
  {
   "cell_type": "code",
   "execution_count": 313,
   "metadata": {},
   "outputs": [
    {
     "name": "stdout",
     "output_type": "stream",
     "text": [
      "Requirement already satisfied: plotly in c:\\users\\jun\\anaconda3\\lib\\site-packages (5.4.0)\n",
      "Requirement already satisfied: six in c:\\users\\jun\\anaconda3\\lib\\site-packages (from plotly) (1.12.0)\n",
      "Requirement already satisfied: tenacity>=6.2.0 in c:\\users\\jun\\anaconda3\\lib\\site-packages (from plotly) (8.0.1)\n"
     ]
    }
   ],
   "source": [
    "!pip install plotly"
   ]
  },
  {
   "cell_type": "code",
   "execution_count": 315,
   "metadata": {},
   "outputs": [],
   "source": [
    "\n"
   ]
  },
  {
   "cell_type": "code",
   "execution_count": 329,
   "metadata": {},
   "outputs": [
    {
     "data": {
      "application/vnd.plotly.v1+json": {
       "config": {
        "plotlyServerURL": "https://plot.ly"
       },
       "data": [
        {
         "colorbar": {
          "title": {
           "text": "Percentage"
          }
         },
         "colorscale": [
          [
           0,
           "rgb(255,245,240)"
          ],
          [
           0.125,
           "rgb(254,224,210)"
          ],
          [
           0.25,
           "rgb(252,187,161)"
          ],
          [
           0.375,
           "rgb(252,146,114)"
          ],
          [
           0.5,
           "rgb(251,106,74)"
          ],
          [
           0.625,
           "rgb(239,59,44)"
          ],
          [
           0.75,
           "rgb(203,24,29)"
          ],
          [
           0.875,
           "rgb(165,15,21)"
          ],
          [
           1,
           "rgb(103,0,13)"
          ]
         ],
         "locationmode": "USA-states",
         "locations": [
          "AL",
          "AK",
          "AZ",
          "AR",
          "CT",
          "CA",
          "CO",
          "FL",
          "DC",
          "DE",
          "GA",
          "ID",
          "HI",
          "IN",
          "IA",
          "IL",
          "KS",
          "LA",
          "ME",
          "KY",
          "MA",
          "MI",
          "MD",
          "MN",
          "MT",
          "MO",
          "MS",
          "NV",
          "NE",
          "NH",
          "NJ",
          "NM",
          "NC",
          "NY",
          "OH",
          "OK",
          "ND",
          "OR",
          "RI",
          "SC",
          "PA",
          "UT",
          "TN",
          "SD",
          "TX",
          "VT",
          "WA",
          "VA",
          "WI",
          "GU",
          "WV",
          "WY",
          "UW",
          "US",
          "PR"
         ],
         "type": "choropleth",
         "z": [
          18.47,
          17.980000000000004,
          13.120000000000005,
          20.459999999999994,
          11.849999999999994,
          8.879999999999995,
          12.370000000000005,
          14.689999999999998,
          11.340000000000003,
          15.14,
          15.790000000000006,
          13.650000000000006,
          11.599999999999994,
          19.39,
          15.760000000000005,
          12.700000000000003,
          16.61,
          18.290000000000006,
          16.53,
          21.379999999999995,
          11.069999999999993,
          18.379999999999995,
          10.89,
          13.849999999999994,
          16.39,
          17.760000000000005,
          20.099999999999994,
          14.239999999999995,
          13.939999999999998,
          13.870000000000005,
          10.829999999999998,
          16.060000000000002,
          16.510000000000005,
          11.989999999999995,
          19.290000000000006,
          19.090000000000003,
          17.349999999999994,
          13.349999999999994,
          13.459999999999994,
          18.120000000000005,
          15.769999999999996,
          8.150000000000006,
          19.489999999999995,
          17.769999999999996,
          13.200000000000003,
          13.269999999999996,
          11.480000000000004,
          13.64,
          15.480000000000004,
          20.010000000000005,
          22.569999999999993,
          18.459999999999994,
          15.5,
          15.5,
          9.939999999999998
         ]
        }
       ],
       "layout": {
        "geo": {
         "scope": "usa"
        },
        "template": {
         "data": {
          "bar": [
           {
            "error_x": {
             "color": "#2a3f5f"
            },
            "error_y": {
             "color": "#2a3f5f"
            },
            "marker": {
             "line": {
              "color": "#E5ECF6",
              "width": 0.5
             },
             "pattern": {
              "fillmode": "overlay",
              "size": 10,
              "solidity": 0.2
             }
            },
            "type": "bar"
           }
          ],
          "barpolar": [
           {
            "marker": {
             "line": {
              "color": "#E5ECF6",
              "width": 0.5
             },
             "pattern": {
              "fillmode": "overlay",
              "size": 10,
              "solidity": 0.2
             }
            },
            "type": "barpolar"
           }
          ],
          "carpet": [
           {
            "aaxis": {
             "endlinecolor": "#2a3f5f",
             "gridcolor": "white",
             "linecolor": "white",
             "minorgridcolor": "white",
             "startlinecolor": "#2a3f5f"
            },
            "baxis": {
             "endlinecolor": "#2a3f5f",
             "gridcolor": "white",
             "linecolor": "white",
             "minorgridcolor": "white",
             "startlinecolor": "#2a3f5f"
            },
            "type": "carpet"
           }
          ],
          "choropleth": [
           {
            "colorbar": {
             "outlinewidth": 0,
             "ticks": ""
            },
            "type": "choropleth"
           }
          ],
          "contour": [
           {
            "colorbar": {
             "outlinewidth": 0,
             "ticks": ""
            },
            "colorscale": [
             [
              0,
              "#0d0887"
             ],
             [
              0.1111111111111111,
              "#46039f"
             ],
             [
              0.2222222222222222,
              "#7201a8"
             ],
             [
              0.3333333333333333,
              "#9c179e"
             ],
             [
              0.4444444444444444,
              "#bd3786"
             ],
             [
              0.5555555555555556,
              "#d8576b"
             ],
             [
              0.6666666666666666,
              "#ed7953"
             ],
             [
              0.7777777777777778,
              "#fb9f3a"
             ],
             [
              0.8888888888888888,
              "#fdca26"
             ],
             [
              1,
              "#f0f921"
             ]
            ],
            "type": "contour"
           }
          ],
          "contourcarpet": [
           {
            "colorbar": {
             "outlinewidth": 0,
             "ticks": ""
            },
            "type": "contourcarpet"
           }
          ],
          "heatmap": [
           {
            "colorbar": {
             "outlinewidth": 0,
             "ticks": ""
            },
            "colorscale": [
             [
              0,
              "#0d0887"
             ],
             [
              0.1111111111111111,
              "#46039f"
             ],
             [
              0.2222222222222222,
              "#7201a8"
             ],
             [
              0.3333333333333333,
              "#9c179e"
             ],
             [
              0.4444444444444444,
              "#bd3786"
             ],
             [
              0.5555555555555556,
              "#d8576b"
             ],
             [
              0.6666666666666666,
              "#ed7953"
             ],
             [
              0.7777777777777778,
              "#fb9f3a"
             ],
             [
              0.8888888888888888,
              "#fdca26"
             ],
             [
              1,
              "#f0f921"
             ]
            ],
            "type": "heatmap"
           }
          ],
          "heatmapgl": [
           {
            "colorbar": {
             "outlinewidth": 0,
             "ticks": ""
            },
            "colorscale": [
             [
              0,
              "#0d0887"
             ],
             [
              0.1111111111111111,
              "#46039f"
             ],
             [
              0.2222222222222222,
              "#7201a8"
             ],
             [
              0.3333333333333333,
              "#9c179e"
             ],
             [
              0.4444444444444444,
              "#bd3786"
             ],
             [
              0.5555555555555556,
              "#d8576b"
             ],
             [
              0.6666666666666666,
              "#ed7953"
             ],
             [
              0.7777777777777778,
              "#fb9f3a"
             ],
             [
              0.8888888888888888,
              "#fdca26"
             ],
             [
              1,
              "#f0f921"
             ]
            ],
            "type": "heatmapgl"
           }
          ],
          "histogram": [
           {
            "marker": {
             "pattern": {
              "fillmode": "overlay",
              "size": 10,
              "solidity": 0.2
             }
            },
            "type": "histogram"
           }
          ],
          "histogram2d": [
           {
            "colorbar": {
             "outlinewidth": 0,
             "ticks": ""
            },
            "colorscale": [
             [
              0,
              "#0d0887"
             ],
             [
              0.1111111111111111,
              "#46039f"
             ],
             [
              0.2222222222222222,
              "#7201a8"
             ],
             [
              0.3333333333333333,
              "#9c179e"
             ],
             [
              0.4444444444444444,
              "#bd3786"
             ],
             [
              0.5555555555555556,
              "#d8576b"
             ],
             [
              0.6666666666666666,
              "#ed7953"
             ],
             [
              0.7777777777777778,
              "#fb9f3a"
             ],
             [
              0.8888888888888888,
              "#fdca26"
             ],
             [
              1,
              "#f0f921"
             ]
            ],
            "type": "histogram2d"
           }
          ],
          "histogram2dcontour": [
           {
            "colorbar": {
             "outlinewidth": 0,
             "ticks": ""
            },
            "colorscale": [
             [
              0,
              "#0d0887"
             ],
             [
              0.1111111111111111,
              "#46039f"
             ],
             [
              0.2222222222222222,
              "#7201a8"
             ],
             [
              0.3333333333333333,
              "#9c179e"
             ],
             [
              0.4444444444444444,
              "#bd3786"
             ],
             [
              0.5555555555555556,
              "#d8576b"
             ],
             [
              0.6666666666666666,
              "#ed7953"
             ],
             [
              0.7777777777777778,
              "#fb9f3a"
             ],
             [
              0.8888888888888888,
              "#fdca26"
             ],
             [
              1,
              "#f0f921"
             ]
            ],
            "type": "histogram2dcontour"
           }
          ],
          "mesh3d": [
           {
            "colorbar": {
             "outlinewidth": 0,
             "ticks": ""
            },
            "type": "mesh3d"
           }
          ],
          "parcoords": [
           {
            "line": {
             "colorbar": {
              "outlinewidth": 0,
              "ticks": ""
             }
            },
            "type": "parcoords"
           }
          ],
          "pie": [
           {
            "automargin": true,
            "type": "pie"
           }
          ],
          "scatter": [
           {
            "marker": {
             "colorbar": {
              "outlinewidth": 0,
              "ticks": ""
             }
            },
            "type": "scatter"
           }
          ],
          "scatter3d": [
           {
            "line": {
             "colorbar": {
              "outlinewidth": 0,
              "ticks": ""
             }
            },
            "marker": {
             "colorbar": {
              "outlinewidth": 0,
              "ticks": ""
             }
            },
            "type": "scatter3d"
           }
          ],
          "scattercarpet": [
           {
            "marker": {
             "colorbar": {
              "outlinewidth": 0,
              "ticks": ""
             }
            },
            "type": "scattercarpet"
           }
          ],
          "scattergeo": [
           {
            "marker": {
             "colorbar": {
              "outlinewidth": 0,
              "ticks": ""
             }
            },
            "type": "scattergeo"
           }
          ],
          "scattergl": [
           {
            "marker": {
             "colorbar": {
              "outlinewidth": 0,
              "ticks": ""
             }
            },
            "type": "scattergl"
           }
          ],
          "scattermapbox": [
           {
            "marker": {
             "colorbar": {
              "outlinewidth": 0,
              "ticks": ""
             }
            },
            "type": "scattermapbox"
           }
          ],
          "scatterpolar": [
           {
            "marker": {
             "colorbar": {
              "outlinewidth": 0,
              "ticks": ""
             }
            },
            "type": "scatterpolar"
           }
          ],
          "scatterpolargl": [
           {
            "marker": {
             "colorbar": {
              "outlinewidth": 0,
              "ticks": ""
             }
            },
            "type": "scatterpolargl"
           }
          ],
          "scatterternary": [
           {
            "marker": {
             "colorbar": {
              "outlinewidth": 0,
              "ticks": ""
             }
            },
            "type": "scatterternary"
           }
          ],
          "surface": [
           {
            "colorbar": {
             "outlinewidth": 0,
             "ticks": ""
            },
            "colorscale": [
             [
              0,
              "#0d0887"
             ],
             [
              0.1111111111111111,
              "#46039f"
             ],
             [
              0.2222222222222222,
              "#7201a8"
             ],
             [
              0.3333333333333333,
              "#9c179e"
             ],
             [
              0.4444444444444444,
              "#bd3786"
             ],
             [
              0.5555555555555556,
              "#d8576b"
             ],
             [
              0.6666666666666666,
              "#ed7953"
             ],
             [
              0.7777777777777778,
              "#fb9f3a"
             ],
             [
              0.8888888888888888,
              "#fdca26"
             ],
             [
              1,
              "#f0f921"
             ]
            ],
            "type": "surface"
           }
          ],
          "table": [
           {
            "cells": {
             "fill": {
              "color": "#EBF0F8"
             },
             "line": {
              "color": "white"
             }
            },
            "header": {
             "fill": {
              "color": "#C8D4E3"
             },
             "line": {
              "color": "white"
             }
            },
            "type": "table"
           }
          ]
         },
         "layout": {
          "annotationdefaults": {
           "arrowcolor": "#2a3f5f",
           "arrowhead": 0,
           "arrowwidth": 1
          },
          "autotypenumbers": "strict",
          "coloraxis": {
           "colorbar": {
            "outlinewidth": 0,
            "ticks": ""
           }
          },
          "colorscale": {
           "diverging": [
            [
             0,
             "#8e0152"
            ],
            [
             0.1,
             "#c51b7d"
            ],
            [
             0.2,
             "#de77ae"
            ],
            [
             0.3,
             "#f1b6da"
            ],
            [
             0.4,
             "#fde0ef"
            ],
            [
             0.5,
             "#f7f7f7"
            ],
            [
             0.6,
             "#e6f5d0"
            ],
            [
             0.7,
             "#b8e186"
            ],
            [
             0.8,
             "#7fbc41"
            ],
            [
             0.9,
             "#4d9221"
            ],
            [
             1,
             "#276419"
            ]
           ],
           "sequential": [
            [
             0,
             "#0d0887"
            ],
            [
             0.1111111111111111,
             "#46039f"
            ],
            [
             0.2222222222222222,
             "#7201a8"
            ],
            [
             0.3333333333333333,
             "#9c179e"
            ],
            [
             0.4444444444444444,
             "#bd3786"
            ],
            [
             0.5555555555555556,
             "#d8576b"
            ],
            [
             0.6666666666666666,
             "#ed7953"
            ],
            [
             0.7777777777777778,
             "#fb9f3a"
            ],
            [
             0.8888888888888888,
             "#fdca26"
            ],
            [
             1,
             "#f0f921"
            ]
           ],
           "sequentialminus": [
            [
             0,
             "#0d0887"
            ],
            [
             0.1111111111111111,
             "#46039f"
            ],
            [
             0.2222222222222222,
             "#7201a8"
            ],
            [
             0.3333333333333333,
             "#9c179e"
            ],
            [
             0.4444444444444444,
             "#bd3786"
            ],
            [
             0.5555555555555556,
             "#d8576b"
            ],
            [
             0.6666666666666666,
             "#ed7953"
            ],
            [
             0.7777777777777778,
             "#fb9f3a"
            ],
            [
             0.8888888888888888,
             "#fdca26"
            ],
            [
             1,
             "#f0f921"
            ]
           ]
          },
          "colorway": [
           "#636efa",
           "#EF553B",
           "#00cc96",
           "#ab63fa",
           "#FFA15A",
           "#19d3f3",
           "#FF6692",
           "#B6E880",
           "#FF97FF",
           "#FECB52"
          ],
          "font": {
           "color": "#2a3f5f"
          },
          "geo": {
           "bgcolor": "white",
           "lakecolor": "white",
           "landcolor": "#E5ECF6",
           "showlakes": true,
           "showland": true,
           "subunitcolor": "white"
          },
          "hoverlabel": {
           "align": "left"
          },
          "hovermode": "closest",
          "mapbox": {
           "style": "light"
          },
          "paper_bgcolor": "white",
          "plot_bgcolor": "#E5ECF6",
          "polar": {
           "angularaxis": {
            "gridcolor": "white",
            "linecolor": "white",
            "ticks": ""
           },
           "bgcolor": "#E5ECF6",
           "radialaxis": {
            "gridcolor": "white",
            "linecolor": "white",
            "ticks": ""
           }
          },
          "scene": {
           "xaxis": {
            "backgroundcolor": "#E5ECF6",
            "gridcolor": "white",
            "gridwidth": 2,
            "linecolor": "white",
            "showbackground": true,
            "ticks": "",
            "zerolinecolor": "white"
           },
           "yaxis": {
            "backgroundcolor": "#E5ECF6",
            "gridcolor": "white",
            "gridwidth": 2,
            "linecolor": "white",
            "showbackground": true,
            "ticks": "",
            "zerolinecolor": "white"
           },
           "zaxis": {
            "backgroundcolor": "#E5ECF6",
            "gridcolor": "white",
            "gridwidth": 2,
            "linecolor": "white",
            "showbackground": true,
            "ticks": "",
            "zerolinecolor": "white"
           }
          },
          "shapedefaults": {
           "line": {
            "color": "#2a3f5f"
           }
          },
          "ternary": {
           "aaxis": {
            "gridcolor": "white",
            "linecolor": "white",
            "ticks": ""
           },
           "baxis": {
            "gridcolor": "white",
            "linecolor": "white",
            "ticks": ""
           },
           "bgcolor": "#E5ECF6",
           "caxis": {
            "gridcolor": "white",
            "linecolor": "white",
            "ticks": ""
           }
          },
          "title": {
           "x": 0.05
          },
          "xaxis": {
           "automargin": true,
           "gridcolor": "white",
           "linecolor": "white",
           "ticks": "",
           "title": {
            "standoff": 15
           },
           "zerolinecolor": "white",
           "zerolinewidth": 2
          },
          "yaxis": {
           "automargin": true,
           "gridcolor": "white",
           "linecolor": "white",
           "ticks": "",
           "title": {
            "standoff": 15
           },
           "zerolinecolor": "white",
           "zerolinewidth": 2
          }
         }
        },
        "title": {
         "text": "Percentage of Current Smoker (2020)",
         "x": 0.5,
         "xanchor": "center",
         "y": 0.9,
         "yanchor": "top"
        }
       }
      },
      "text/html": [
       "<div>                            <div id=\"ae208db8-ca92-4bb3-8e9a-29c675d4599e\" class=\"plotly-graph-div\" style=\"height:525px; width:100%;\"></div>            <script type=\"text/javascript\">                require([\"plotly\"], function(Plotly) {                    window.PLOTLYENV=window.PLOTLYENV || {};                                    if (document.getElementById(\"ae208db8-ca92-4bb3-8e9a-29c675d4599e\")) {                    Plotly.newPlot(                        \"ae208db8-ca92-4bb3-8e9a-29c675d4599e\",                        [{\"colorbar\":{\"title\":{\"text\":\"Percentage\"}},\"colorscale\":[[0.0,\"rgb(255,245,240)\"],[0.125,\"rgb(254,224,210)\"],[0.25,\"rgb(252,187,161)\"],[0.375,\"rgb(252,146,114)\"],[0.5,\"rgb(251,106,74)\"],[0.625,\"rgb(239,59,44)\"],[0.75,\"rgb(203,24,29)\"],[0.875,\"rgb(165,15,21)\"],[1.0,\"rgb(103,0,13)\"]],\"locationmode\":\"USA-states\",\"locations\":[\"AL\",\"AK\",\"AZ\",\"AR\",\"CT\",\"CA\",\"CO\",\"FL\",\"DC\",\"DE\",\"GA\",\"ID\",\"HI\",\"IN\",\"IA\",\"IL\",\"KS\",\"LA\",\"ME\",\"KY\",\"MA\",\"MI\",\"MD\",\"MN\",\"MT\",\"MO\",\"MS\",\"NV\",\"NE\",\"NH\",\"NJ\",\"NM\",\"NC\",\"NY\",\"OH\",\"OK\",\"ND\",\"OR\",\"RI\",\"SC\",\"PA\",\"UT\",\"TN\",\"SD\",\"TX\",\"VT\",\"WA\",\"VA\",\"WI\",\"GU\",\"WV\",\"WY\",\"UW\",\"US\",\"PR\"],\"z\":[18.47,17.980000000000004,13.120000000000005,20.459999999999994,11.849999999999994,8.879999999999995,12.370000000000005,14.689999999999998,11.340000000000003,15.14,15.790000000000006,13.650000000000006,11.599999999999994,19.39,15.760000000000005,12.700000000000003,16.61,18.290000000000006,16.53,21.379999999999995,11.069999999999993,18.379999999999995,10.89,13.849999999999994,16.39,17.760000000000005,20.099999999999994,14.239999999999995,13.939999999999998,13.870000000000005,10.829999999999998,16.060000000000002,16.510000000000005,11.989999999999995,19.290000000000006,19.090000000000003,17.349999999999994,13.349999999999994,13.459999999999994,18.120000000000005,15.769999999999996,8.150000000000006,19.489999999999995,17.769999999999996,13.200000000000003,13.269999999999996,11.480000000000004,13.64,15.480000000000004,20.010000000000005,22.569999999999993,18.459999999999994,15.5,15.5,9.939999999999998],\"type\":\"choropleth\"}],                        {\"template\":{\"data\":{\"bar\":[{\"error_x\":{\"color\":\"#2a3f5f\"},\"error_y\":{\"color\":\"#2a3f5f\"},\"marker\":{\"line\":{\"color\":\"#E5ECF6\",\"width\":0.5},\"pattern\":{\"fillmode\":\"overlay\",\"size\":10,\"solidity\":0.2}},\"type\":\"bar\"}],\"barpolar\":[{\"marker\":{\"line\":{\"color\":\"#E5ECF6\",\"width\":0.5},\"pattern\":{\"fillmode\":\"overlay\",\"size\":10,\"solidity\":0.2}},\"type\":\"barpolar\"}],\"carpet\":[{\"aaxis\":{\"endlinecolor\":\"#2a3f5f\",\"gridcolor\":\"white\",\"linecolor\":\"white\",\"minorgridcolor\":\"white\",\"startlinecolor\":\"#2a3f5f\"},\"baxis\":{\"endlinecolor\":\"#2a3f5f\",\"gridcolor\":\"white\",\"linecolor\":\"white\",\"minorgridcolor\":\"white\",\"startlinecolor\":\"#2a3f5f\"},\"type\":\"carpet\"}],\"choropleth\":[{\"colorbar\":{\"outlinewidth\":0,\"ticks\":\"\"},\"type\":\"choropleth\"}],\"contour\":[{\"colorbar\":{\"outlinewidth\":0,\"ticks\":\"\"},\"colorscale\":[[0.0,\"#0d0887\"],[0.1111111111111111,\"#46039f\"],[0.2222222222222222,\"#7201a8\"],[0.3333333333333333,\"#9c179e\"],[0.4444444444444444,\"#bd3786\"],[0.5555555555555556,\"#d8576b\"],[0.6666666666666666,\"#ed7953\"],[0.7777777777777778,\"#fb9f3a\"],[0.8888888888888888,\"#fdca26\"],[1.0,\"#f0f921\"]],\"type\":\"contour\"}],\"contourcarpet\":[{\"colorbar\":{\"outlinewidth\":0,\"ticks\":\"\"},\"type\":\"contourcarpet\"}],\"heatmap\":[{\"colorbar\":{\"outlinewidth\":0,\"ticks\":\"\"},\"colorscale\":[[0.0,\"#0d0887\"],[0.1111111111111111,\"#46039f\"],[0.2222222222222222,\"#7201a8\"],[0.3333333333333333,\"#9c179e\"],[0.4444444444444444,\"#bd3786\"],[0.5555555555555556,\"#d8576b\"],[0.6666666666666666,\"#ed7953\"],[0.7777777777777778,\"#fb9f3a\"],[0.8888888888888888,\"#fdca26\"],[1.0,\"#f0f921\"]],\"type\":\"heatmap\"}],\"heatmapgl\":[{\"colorbar\":{\"outlinewidth\":0,\"ticks\":\"\"},\"colorscale\":[[0.0,\"#0d0887\"],[0.1111111111111111,\"#46039f\"],[0.2222222222222222,\"#7201a8\"],[0.3333333333333333,\"#9c179e\"],[0.4444444444444444,\"#bd3786\"],[0.5555555555555556,\"#d8576b\"],[0.6666666666666666,\"#ed7953\"],[0.7777777777777778,\"#fb9f3a\"],[0.8888888888888888,\"#fdca26\"],[1.0,\"#f0f921\"]],\"type\":\"heatmapgl\"}],\"histogram\":[{\"marker\":{\"pattern\":{\"fillmode\":\"overlay\",\"size\":10,\"solidity\":0.2}},\"type\":\"histogram\"}],\"histogram2d\":[{\"colorbar\":{\"outlinewidth\":0,\"ticks\":\"\"},\"colorscale\":[[0.0,\"#0d0887\"],[0.1111111111111111,\"#46039f\"],[0.2222222222222222,\"#7201a8\"],[0.3333333333333333,\"#9c179e\"],[0.4444444444444444,\"#bd3786\"],[0.5555555555555556,\"#d8576b\"],[0.6666666666666666,\"#ed7953\"],[0.7777777777777778,\"#fb9f3a\"],[0.8888888888888888,\"#fdca26\"],[1.0,\"#f0f921\"]],\"type\":\"histogram2d\"}],\"histogram2dcontour\":[{\"colorbar\":{\"outlinewidth\":0,\"ticks\":\"\"},\"colorscale\":[[0.0,\"#0d0887\"],[0.1111111111111111,\"#46039f\"],[0.2222222222222222,\"#7201a8\"],[0.3333333333333333,\"#9c179e\"],[0.4444444444444444,\"#bd3786\"],[0.5555555555555556,\"#d8576b\"],[0.6666666666666666,\"#ed7953\"],[0.7777777777777778,\"#fb9f3a\"],[0.8888888888888888,\"#fdca26\"],[1.0,\"#f0f921\"]],\"type\":\"histogram2dcontour\"}],\"mesh3d\":[{\"colorbar\":{\"outlinewidth\":0,\"ticks\":\"\"},\"type\":\"mesh3d\"}],\"parcoords\":[{\"line\":{\"colorbar\":{\"outlinewidth\":0,\"ticks\":\"\"}},\"type\":\"parcoords\"}],\"pie\":[{\"automargin\":true,\"type\":\"pie\"}],\"scatter\":[{\"marker\":{\"colorbar\":{\"outlinewidth\":0,\"ticks\":\"\"}},\"type\":\"scatter\"}],\"scatter3d\":[{\"line\":{\"colorbar\":{\"outlinewidth\":0,\"ticks\":\"\"}},\"marker\":{\"colorbar\":{\"outlinewidth\":0,\"ticks\":\"\"}},\"type\":\"scatter3d\"}],\"scattercarpet\":[{\"marker\":{\"colorbar\":{\"outlinewidth\":0,\"ticks\":\"\"}},\"type\":\"scattercarpet\"}],\"scattergeo\":[{\"marker\":{\"colorbar\":{\"outlinewidth\":0,\"ticks\":\"\"}},\"type\":\"scattergeo\"}],\"scattergl\":[{\"marker\":{\"colorbar\":{\"outlinewidth\":0,\"ticks\":\"\"}},\"type\":\"scattergl\"}],\"scattermapbox\":[{\"marker\":{\"colorbar\":{\"outlinewidth\":0,\"ticks\":\"\"}},\"type\":\"scattermapbox\"}],\"scatterpolar\":[{\"marker\":{\"colorbar\":{\"outlinewidth\":0,\"ticks\":\"\"}},\"type\":\"scatterpolar\"}],\"scatterpolargl\":[{\"marker\":{\"colorbar\":{\"outlinewidth\":0,\"ticks\":\"\"}},\"type\":\"scatterpolargl\"}],\"scatterternary\":[{\"marker\":{\"colorbar\":{\"outlinewidth\":0,\"ticks\":\"\"}},\"type\":\"scatterternary\"}],\"surface\":[{\"colorbar\":{\"outlinewidth\":0,\"ticks\":\"\"},\"colorscale\":[[0.0,\"#0d0887\"],[0.1111111111111111,\"#46039f\"],[0.2222222222222222,\"#7201a8\"],[0.3333333333333333,\"#9c179e\"],[0.4444444444444444,\"#bd3786\"],[0.5555555555555556,\"#d8576b\"],[0.6666666666666666,\"#ed7953\"],[0.7777777777777778,\"#fb9f3a\"],[0.8888888888888888,\"#fdca26\"],[1.0,\"#f0f921\"]],\"type\":\"surface\"}],\"table\":[{\"cells\":{\"fill\":{\"color\":\"#EBF0F8\"},\"line\":{\"color\":\"white\"}},\"header\":{\"fill\":{\"color\":\"#C8D4E3\"},\"line\":{\"color\":\"white\"}},\"type\":\"table\"}]},\"layout\":{\"annotationdefaults\":{\"arrowcolor\":\"#2a3f5f\",\"arrowhead\":0,\"arrowwidth\":1},\"autotypenumbers\":\"strict\",\"coloraxis\":{\"colorbar\":{\"outlinewidth\":0,\"ticks\":\"\"}},\"colorscale\":{\"diverging\":[[0,\"#8e0152\"],[0.1,\"#c51b7d\"],[0.2,\"#de77ae\"],[0.3,\"#f1b6da\"],[0.4,\"#fde0ef\"],[0.5,\"#f7f7f7\"],[0.6,\"#e6f5d0\"],[0.7,\"#b8e186\"],[0.8,\"#7fbc41\"],[0.9,\"#4d9221\"],[1,\"#276419\"]],\"sequential\":[[0.0,\"#0d0887\"],[0.1111111111111111,\"#46039f\"],[0.2222222222222222,\"#7201a8\"],[0.3333333333333333,\"#9c179e\"],[0.4444444444444444,\"#bd3786\"],[0.5555555555555556,\"#d8576b\"],[0.6666666666666666,\"#ed7953\"],[0.7777777777777778,\"#fb9f3a\"],[0.8888888888888888,\"#fdca26\"],[1.0,\"#f0f921\"]],\"sequentialminus\":[[0.0,\"#0d0887\"],[0.1111111111111111,\"#46039f\"],[0.2222222222222222,\"#7201a8\"],[0.3333333333333333,\"#9c179e\"],[0.4444444444444444,\"#bd3786\"],[0.5555555555555556,\"#d8576b\"],[0.6666666666666666,\"#ed7953\"],[0.7777777777777778,\"#fb9f3a\"],[0.8888888888888888,\"#fdca26\"],[1.0,\"#f0f921\"]]},\"colorway\":[\"#636efa\",\"#EF553B\",\"#00cc96\",\"#ab63fa\",\"#FFA15A\",\"#19d3f3\",\"#FF6692\",\"#B6E880\",\"#FF97FF\",\"#FECB52\"],\"font\":{\"color\":\"#2a3f5f\"},\"geo\":{\"bgcolor\":\"white\",\"lakecolor\":\"white\",\"landcolor\":\"#E5ECF6\",\"showlakes\":true,\"showland\":true,\"subunitcolor\":\"white\"},\"hoverlabel\":{\"align\":\"left\"},\"hovermode\":\"closest\",\"mapbox\":{\"style\":\"light\"},\"paper_bgcolor\":\"white\",\"plot_bgcolor\":\"#E5ECF6\",\"polar\":{\"angularaxis\":{\"gridcolor\":\"white\",\"linecolor\":\"white\",\"ticks\":\"\"},\"bgcolor\":\"#E5ECF6\",\"radialaxis\":{\"gridcolor\":\"white\",\"linecolor\":\"white\",\"ticks\":\"\"}},\"scene\":{\"xaxis\":{\"backgroundcolor\":\"#E5ECF6\",\"gridcolor\":\"white\",\"gridwidth\":2,\"linecolor\":\"white\",\"showbackground\":true,\"ticks\":\"\",\"zerolinecolor\":\"white\"},\"yaxis\":{\"backgroundcolor\":\"#E5ECF6\",\"gridcolor\":\"white\",\"gridwidth\":2,\"linecolor\":\"white\",\"showbackground\":true,\"ticks\":\"\",\"zerolinecolor\":\"white\"},\"zaxis\":{\"backgroundcolor\":\"#E5ECF6\",\"gridcolor\":\"white\",\"gridwidth\":2,\"linecolor\":\"white\",\"showbackground\":true,\"ticks\":\"\",\"zerolinecolor\":\"white\"}},\"shapedefaults\":{\"line\":{\"color\":\"#2a3f5f\"}},\"ternary\":{\"aaxis\":{\"gridcolor\":\"white\",\"linecolor\":\"white\",\"ticks\":\"\"},\"baxis\":{\"gridcolor\":\"white\",\"linecolor\":\"white\",\"ticks\":\"\"},\"bgcolor\":\"#E5ECF6\",\"caxis\":{\"gridcolor\":\"white\",\"linecolor\":\"white\",\"ticks\":\"\"}},\"title\":{\"x\":0.05},\"xaxis\":{\"automargin\":true,\"gridcolor\":\"white\",\"linecolor\":\"white\",\"ticks\":\"\",\"title\":{\"standoff\":15},\"zerolinecolor\":\"white\",\"zerolinewidth\":2},\"yaxis\":{\"automargin\":true,\"gridcolor\":\"white\",\"linecolor\":\"white\",\"ticks\":\"\",\"title\":{\"standoff\":15},\"zerolinecolor\":\"white\",\"zerolinewidth\":2}}},\"title\":{\"text\":\"Percentage of Current Smoker (2020)\",\"y\":0.9,\"x\":0.5,\"xanchor\":\"center\",\"yanchor\":\"top\"},\"geo\":{\"scope\":\"usa\"}},                        {\"responsive\": true}                    ).then(function(){\n",
       "                            \n",
       "var gd = document.getElementById('ae208db8-ca92-4bb3-8e9a-29c675d4599e');\n",
       "var x = new MutationObserver(function (mutations, observer) {{\n",
       "        var display = window.getComputedStyle(gd).display;\n",
       "        if (!display || display === 'none') {{\n",
       "            console.log([gd, 'removed!']);\n",
       "            Plotly.purge(gd);\n",
       "            observer.disconnect();\n",
       "        }}\n",
       "}});\n",
       "\n",
       "// Listen for the removal of the full notebook cells\n",
       "var notebookContainer = gd.closest('#notebook-container');\n",
       "if (notebookContainer) {{\n",
       "    x.observe(notebookContainer, {childList: true});\n",
       "}}\n",
       "\n",
       "// Listen for the clearing of the current output cell\n",
       "var outputEl = gd.closest('.output');\n",
       "if (outputEl) {{\n",
       "    x.observe(outputEl, {childList: true});\n",
       "}}\n",
       "\n",
       "                        })                };                });            </script>        </div>"
      ]
     },
     "metadata": {},
     "output_type": "display_data"
    }
   ],
   "source": [
    "import plotly.graph_objects as go\n",
    "fig = go.Figure(data = go.Choropleth(\n",
    "    locations=df['Locationabbr'], # The abbreviation of code\n",
    "    z=df['Data_value'].astype(float),# Your data value\n",
    "    locationmode='USA-states', # range\n",
    "    colorscale='Reds',\n",
    "    colorbar_title=\"Percentage\",\n",
    "))\n",
    "\n",
    "fig.update_layout(title={\n",
    "        'text': \"Percentage of Current Smoker (2020)\",\n",
    "        'y':0.9,\n",
    "        'x':0.5,\n",
    "        'xanchor': 'center',\n",
    "        'yanchor': 'top'},\n",
    "         geo_scope='usa',\n",
    "                 )"
   ]
  },
  {
   "cell_type": "code",
   "execution_count": null,
   "metadata": {},
   "outputs": [],
   "source": []
  }
 ],
 "metadata": {
  "kernelspec": {
   "display_name": "Python 3",
   "language": "python",
   "name": "python3"
  },
  "language_info": {
   "codemirror_mode": {
    "name": "ipython",
    "version": 3
   },
   "file_extension": ".py",
   "mimetype": "text/x-python",
   "name": "python",
   "nbconvert_exporter": "python",
   "pygments_lexer": "ipython3",
   "version": "3.7.4"
  }
 },
 "nbformat": 4,
 "nbformat_minor": 2
}
